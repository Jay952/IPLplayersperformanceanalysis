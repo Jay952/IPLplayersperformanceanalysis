{
 "cells": [
  {
   "cell_type": "code",
   "execution_count": 414,
   "metadata": {
    "id": "lh9vfSFdgAnr"
   },
   "outputs": [],
   "source": [
    "import pandas as pd\n",
    "import matplotlib.pyplot as plt\n",
    "import numpy as np"
   ]
  },
  {
   "cell_type": "code",
   "execution_count": 415,
   "metadata": {
    "colab": {
     "base_uri": "https://localhost:8080/",
     "height": 383
    },
    "id": "Bo9ZY_CAgd3b",
    "outputId": "495ad364-51e8-420e-ff43-d86d79094f5b"
   },
   "outputs": [
    {
     "data": {
      "text/html": [
       "<div>\n",
       "<style scoped>\n",
       "    .dataframe tbody tr th:only-of-type {\n",
       "        vertical-align: middle;\n",
       "    }\n",
       "\n",
       "    .dataframe tbody tr th {\n",
       "        vertical-align: top;\n",
       "    }\n",
       "\n",
       "    .dataframe thead th {\n",
       "        text-align: right;\n",
       "    }\n",
       "</style>\n",
       "<table border=\"1\" class=\"dataframe\">\n",
       "  <thead>\n",
       "    <tr style=\"text-align: right;\">\n",
       "      <th></th>\n",
       "      <th>id</th>\n",
       "      <th>inning</th>\n",
       "      <th>over</th>\n",
       "      <th>ball</th>\n",
       "      <th>batsman</th>\n",
       "      <th>non_striker</th>\n",
       "      <th>bowler</th>\n",
       "      <th>batsman_runs</th>\n",
       "      <th>extra_runs</th>\n",
       "      <th>total_runs</th>\n",
       "      <th>non_boundary</th>\n",
       "      <th>is_wicket</th>\n",
       "      <th>dismissal_kind</th>\n",
       "      <th>player_dismissed</th>\n",
       "      <th>fielder</th>\n",
       "      <th>extras_type</th>\n",
       "      <th>batting_team</th>\n",
       "      <th>bowling_team</th>\n",
       "    </tr>\n",
       "  </thead>\n",
       "  <tbody>\n",
       "    <tr>\n",
       "      <th>0</th>\n",
       "      <td>335982</td>\n",
       "      <td>1</td>\n",
       "      <td>6</td>\n",
       "      <td>5</td>\n",
       "      <td>RT Ponting</td>\n",
       "      <td>BB McCullum</td>\n",
       "      <td>AA Noffke</td>\n",
       "      <td>1</td>\n",
       "      <td>0</td>\n",
       "      <td>1</td>\n",
       "      <td>0</td>\n",
       "      <td>0</td>\n",
       "      <td>NaN</td>\n",
       "      <td>NaN</td>\n",
       "      <td>NaN</td>\n",
       "      <td>NaN</td>\n",
       "      <td>Kolkata Knight Riders</td>\n",
       "      <td>Royal Challengers Bangalore</td>\n",
       "    </tr>\n",
       "    <tr>\n",
       "      <th>1</th>\n",
       "      <td>335982</td>\n",
       "      <td>1</td>\n",
       "      <td>6</td>\n",
       "      <td>6</td>\n",
       "      <td>BB McCullum</td>\n",
       "      <td>RT Ponting</td>\n",
       "      <td>AA Noffke</td>\n",
       "      <td>1</td>\n",
       "      <td>0</td>\n",
       "      <td>1</td>\n",
       "      <td>0</td>\n",
       "      <td>0</td>\n",
       "      <td>NaN</td>\n",
       "      <td>NaN</td>\n",
       "      <td>NaN</td>\n",
       "      <td>NaN</td>\n",
       "      <td>Kolkata Knight Riders</td>\n",
       "      <td>Royal Challengers Bangalore</td>\n",
       "    </tr>\n",
       "    <tr>\n",
       "      <th>2</th>\n",
       "      <td>335982</td>\n",
       "      <td>1</td>\n",
       "      <td>7</td>\n",
       "      <td>1</td>\n",
       "      <td>BB McCullum</td>\n",
       "      <td>RT Ponting</td>\n",
       "      <td>Z Khan</td>\n",
       "      <td>0</td>\n",
       "      <td>0</td>\n",
       "      <td>0</td>\n",
       "      <td>0</td>\n",
       "      <td>0</td>\n",
       "      <td>NaN</td>\n",
       "      <td>NaN</td>\n",
       "      <td>NaN</td>\n",
       "      <td>NaN</td>\n",
       "      <td>Kolkata Knight Riders</td>\n",
       "      <td>Royal Challengers Bangalore</td>\n",
       "    </tr>\n",
       "    <tr>\n",
       "      <th>3</th>\n",
       "      <td>335982</td>\n",
       "      <td>1</td>\n",
       "      <td>7</td>\n",
       "      <td>2</td>\n",
       "      <td>BB McCullum</td>\n",
       "      <td>RT Ponting</td>\n",
       "      <td>Z Khan</td>\n",
       "      <td>1</td>\n",
       "      <td>0</td>\n",
       "      <td>1</td>\n",
       "      <td>0</td>\n",
       "      <td>0</td>\n",
       "      <td>NaN</td>\n",
       "      <td>NaN</td>\n",
       "      <td>NaN</td>\n",
       "      <td>NaN</td>\n",
       "      <td>Kolkata Knight Riders</td>\n",
       "      <td>Royal Challengers Bangalore</td>\n",
       "    </tr>\n",
       "    <tr>\n",
       "      <th>4</th>\n",
       "      <td>335982</td>\n",
       "      <td>1</td>\n",
       "      <td>7</td>\n",
       "      <td>3</td>\n",
       "      <td>RT Ponting</td>\n",
       "      <td>BB McCullum</td>\n",
       "      <td>Z Khan</td>\n",
       "      <td>1</td>\n",
       "      <td>0</td>\n",
       "      <td>1</td>\n",
       "      <td>0</td>\n",
       "      <td>0</td>\n",
       "      <td>NaN</td>\n",
       "      <td>NaN</td>\n",
       "      <td>NaN</td>\n",
       "      <td>NaN</td>\n",
       "      <td>Kolkata Knight Riders</td>\n",
       "      <td>Royal Challengers Bangalore</td>\n",
       "    </tr>\n",
       "  </tbody>\n",
       "</table>\n",
       "</div>"
      ],
      "text/plain": [
       "       id  inning  over  ball      batsman  non_striker     bowler  \\\n",
       "0  335982       1     6     5   RT Ponting  BB McCullum  AA Noffke   \n",
       "1  335982       1     6     6  BB McCullum   RT Ponting  AA Noffke   \n",
       "2  335982       1     7     1  BB McCullum   RT Ponting     Z Khan   \n",
       "3  335982       1     7     2  BB McCullum   RT Ponting     Z Khan   \n",
       "4  335982       1     7     3   RT Ponting  BB McCullum     Z Khan   \n",
       "\n",
       "   batsman_runs  extra_runs  total_runs  non_boundary  is_wicket  \\\n",
       "0             1           0           1             0          0   \n",
       "1             1           0           1             0          0   \n",
       "2             0           0           0             0          0   \n",
       "3             1           0           1             0          0   \n",
       "4             1           0           1             0          0   \n",
       "\n",
       "  dismissal_kind player_dismissed fielder extras_type           batting_team  \\\n",
       "0            NaN              NaN     NaN         NaN  Kolkata Knight Riders   \n",
       "1            NaN              NaN     NaN         NaN  Kolkata Knight Riders   \n",
       "2            NaN              NaN     NaN         NaN  Kolkata Knight Riders   \n",
       "3            NaN              NaN     NaN         NaN  Kolkata Knight Riders   \n",
       "4            NaN              NaN     NaN         NaN  Kolkata Knight Riders   \n",
       "\n",
       "                  bowling_team  \n",
       "0  Royal Challengers Bangalore  \n",
       "1  Royal Challengers Bangalore  \n",
       "2  Royal Challengers Bangalore  \n",
       "3  Royal Challengers Bangalore  \n",
       "4  Royal Challengers Bangalore  "
      ]
     },
     "execution_count": 415,
     "metadata": {},
     "output_type": "execute_result"
    }
   ],
   "source": [
    "df=pd.read_csv('IPL Ball-by-Ball 2008-2020.csv')\n",
    "df.head()"
   ]
  },
  {
   "cell_type": "code",
   "execution_count": 416,
   "metadata": {
    "colab": {
     "base_uri": "https://localhost:8080/"
    },
    "id": "xPosskPggkB2",
    "outputId": "af84e4ff-bbd2-4405-af5f-e7a3a2eb03e0"
   },
   "outputs": [
    {
     "data": {
      "text/plain": [
       "array(['RT Ponting', 'BB McCullum', 'DJ Hussey', 'Mohammad Hafeez',\n",
       "       'SC Ganguly', 'CL White', 'MV Boucher', 'B Akhil', 'AA Noffke',\n",
       "       'P Kumar', 'Z Khan', 'SB Joshi', 'W Jaffer', 'JH Kallis',\n",
       "       'R Dravid', 'V Kohli', 'K Goel', 'MEK Hussey', 'JR Hopes',\n",
       "       'SK Raina', 'JDP Oram', 'S Badrinath', 'PA Patel', 'ML Hayden',\n",
       "       'MS Dhoni', 'KC Sangakkara', 'Yuvraj Singh', 'SM Katich',\n",
       "       'IK Pathan', 'T Kohli', 'YK Pathan', 'S Dhawan', 'G Gambhir',\n",
       "       'SK Warne', 'D Salunkhe', 'SK Trivedi', 'V Sehwag', 'SR Watson',\n",
       "       'M Kaif', 'DS Lehmann', 'RA Jadeja', 'M Rawat', 'L Ronchi',\n",
       "       'ST Jayasuriya', 'DJ Thornely', 'RV Uthappa', 'PR Shah',\n",
       "       'AM Nayar', 'SM Pollock', 'Harbhajan Singh', 'S Chanderpaul',\n",
       "       'LRPL Taylor', 'WP Saha', 'AS Yadav', 'A Symonds', 'SB Bangar',\n",
       "       'WPUJC Vaas', 'RP Singh', 'AC Gilchrist', 'Y Venugopal Rao',\n",
       "       'VVS Laxman', 'RG Sharma', 'SB Styris', 'LR Shukla', 'PP Chawla',\n",
       "       'Kamran Akmal', 'DPMD Jayawardene', 'S Sohal', 'B Lee', 'WA Mota',\n",
       "       'Shahid Afridi', 'DJ Bravo', 'A Nehra', 'MA Khote', 'GC Smith',\n",
       "       'Pankaj Singh', 'S Sreesanth', 'VRV Singh', 'SS Tiwary',\n",
       "       'RR Sarwan', 'DS Kulkarni', 'R Vinay Kumar', 'M Kartik',\n",
       "       'I Sharma', 'AB Agarkar', 'AM Rahane', 'TM Srivastava',\n",
       "       'Shoaib Malik', 'MK Tiwary', 'KD Karthik', 'R Bhatia',\n",
       "       'MF Maharoof', 'VY Mahesh', 'B Chipli', 'DW Steyn', 'DB Das',\n",
       "       'MK Pandey', 'HH Gibbs', 'DNT Zoysa', 'D Kalyankrishna',\n",
       "       'SE Marsh', 'SA Asnodkar', 'BJ Hodge', 'Sohail Tanvir',\n",
       "       'Salman Butt', 'Umar Gul', 'AB Dinda', 'AB de Villiers',\n",
       "       'SP Fleming', 'S Vidyut', 'JA Morkel', 'LPC Silva', 'DB Ravi Teja',\n",
       "       'Misbah-ul-Haq', 'PJ Sangwan', 'YV Takawale', 'RR Raje',\n",
       "       'Mohammad Asif', 'GD McGrath', 'Joginder Sharma', 'MS Gony',\n",
       "       'M Muralitharan', 'M Ntini', 'DT Patil', 'A Kumble', 'S Anirudha',\n",
       "       'MM Patel', 'CK Kapugedera', 'A Chopra', 'T Taibu', 'J Arunkumar',\n",
       "       'PP Ojha', 'SP Goswami', 'SR Tendulkar', 'U Kaul', 'Niraj Patel',\n",
       "       'AD Mascarenhas', 'TM Dilshan', 'A Mishra', 'LA Pomersbach',\n",
       "       'Iqbal Abdulla', 'Younis Khan', 'PM Sarvesh Kumar',\n",
       "       'DP Vijaykumar', 'Shoaib Akhtar', 'Abdur Razzak', 'H Das',\n",
       "       'DR Smith', 'SD Chitnis', 'CRD Fernando', 'VS Yeligati',\n",
       "       'L Balaji', 'A Mukund', 'RR Powar', 'JP Duminy', 'A Flintoff',\n",
       "       'T Thushara', 'KP Pietersen', 'JD Ryder', 'T Henderson',\n",
       "       'Kamran Khan', 'RS Bopara', 'MC Henriques', 'CH Gayle',\n",
       "       'R Bishnoi', 'KV Sharma', 'FH Edwards', 'AS Raut', 'PC Valthaty',\n",
       "       'RJ Quiney', 'Yashpal Singh', 'M Manhas', 'AA Bilakhia',\n",
       "       'AN Ghosh', 'BAW Mendis', 'DL Vettori', 'MN van Wyk',\n",
       "       'RE van der Merwe', 'TL Suman', 'Shoaib Ahmed', 'GR Napier',\n",
       "       'KP Appanna', 'LA Carseldine', 'NV Ojha', 'SM Harwood', 'M Vijay',\n",
       "       'DA Warner', 'SB Jakati', 'RJ Harris', 'D du Preez', 'M Morkel',\n",
       "       'AD Mathews', 'SL Malinga', 'C Nanda', 'J Botha',\n",
       "       'Mashrafe Mortaza', 'A Singh', 'GJ Bailey', 'AB McDonald',\n",
       "       'Y Nagar', 'SS Shaikh', 'R Ashwin', 'Mohammad Ashraful',\n",
       "       'Jaskaran Singh', 'Anirudh Singh', 'CA Pujara', 'OA Shah',\n",
       "       'AP Tare', 'AT Rayudu', 'R Sathish', 'R McLaren',\n",
       "       'AA Jhunjhunwala', 'P Dogra', 'A Uniyal', 'MS Bisla', 'YA Abdulla',\n",
       "       'EJG Morgan', 'JM Kemp', 'S Tyagi', 'RS Gavaskar', 'SE Bond',\n",
       "       'S Ladda', 'DP Nannes', 'KA Pollard', 'DR Martyn', 'S Narwal',\n",
       "       'MJ Lumb', 'Bipul Sharma', 'AB Barath', 'FY Fazal', 'AC Voges',\n",
       "       'MD Mishra', 'UT Yadav', 'J Theron', 'SJ Srivastava', 'R Sharma',\n",
       "       'Mandeep Singh', 'KM Jadhav', 'SW Tait', 'KB Arun Karthik',\n",
       "       'KAJ Roach', 'PD Collingwood', 'CK Langeveldt', 'VS Malik',\n",
       "       'A Mithun', 'AP Dole', 'AN Ahmed', 'RS Sodhi', 'DE Bollinger',\n",
       "       'S Sriram', 'B Sumanth', 'C Madan', 'AG Paunikar', 'MR Marsh',\n",
       "       'AJ Finch', 'STR Binny', 'Harmeet Singh', 'IR Jaggi',\n",
       "       'DT Christian', 'MA Agarwal', 'RV Gomez', 'AUK Pathan',\n",
       "       'UBT Chand', 'DJ Jacobs', 'NJ Rimmington', 'Sunny Singh',\n",
       "       'AL Menaria', 'WD Parnell', 'JJ van der Wath', 'R Ninan',\n",
       "       'S Aravind', 'MS Wade', 'TD Paine', 'JEC Franklin', 'SB Wagh',\n",
       "       'AC Thomas', 'Shakib Al Hasan', 'DH Yagnik', 'S Randiv',\n",
       "       'BJ Haddin', 'NLTC Perera', 'NL McCullum', 'JE Taylor',\n",
       "       'J Syed Mohammad', 'RN ten Doeschate', 'TR Birt', 'AG Murtaza',\n",
       "       'Harpreet Singh', 'M Klinger', 'AC Blizzard', 'I Malhotra',\n",
       "       'L Ablish', 'CA Ingram', 'S Nadeem', 'P Parameswaran',\n",
       "       'CJ Ferguson', 'VR Aaron', 'AA Chavan', 'ND Doshi', 'B Kumar',\n",
       "       'Y Gnaneswara Rao', 'S Rana', 'BA Bhatt', 'F du Plessis',\n",
       "       'RE Levi', 'GJ Maxwell', 'SPD Smith', 'SA Yadav', 'MN Samuels',\n",
       "       'KK Cooper', 'JP Faulkner', 'HV Patel', 'DAJ Bracewell',\n",
       "       'DJ Harris', 'Ankit Sharma', 'SP Narine', 'GB Hogg', 'RR Bhatkal',\n",
       "       'CJ McKay', 'N Saini', 'DA Miller', 'Azhar Mahmood', 'P Negi',\n",
       "       'RJ Peterson', 'KMDN Kulasekara', 'A Ashish Reddy',\n",
       "       'V Pratap Singh', 'BB Samantray', 'MJ Clarke', 'Gurkeerat Singh',\n",
       "       'AP Majumdar', 'PA Reddy', 'K Upadhyay', 'P Awana', 'AD Russell',\n",
       "       'A Chandila', 'CA Lynn', 'Sunny Gupta', 'MC Juneja', 'KK Nair',\n",
       "       'GH Vihari', 'R Shukla', 'MDKJ Perera', 'AS Rajpoot', 'B Laughlin',\n",
       "       'M Vohra', 'JD Unadkat', 'Mohammed Shami', 'BMAJ Mendis',\n",
       "       'R Rampaul', 'CH Morris', 'SV Samson', 'SMSM Senanayake',\n",
       "       'BJ Rohrer', 'KL Rahul', 'Q de Kock', 'R Dhawan', 'MG Johnson',\n",
       "       'LJ Wright', 'IC Pandey', 'CM Gautam', 'X Thalaivan Sargunam',\n",
       "       'DJG Sammy', 'KW Richardson', 'MM Sharma', 'UA Birla',\n",
       "       'Parvez Rasool', 'Sandeep Sharma', 'S Kaul', 'Sachin Baby',\n",
       "       'PV Tambe', 'NM Coulter-Nile', 'CJ Anderson', 'NJ Maddinson',\n",
       "       'AR Patel', 'JJ Bumrah', 'JDS Neesham', 'TG Southee', 'MA Starc',\n",
       "       'BR Dunk', 'RR Rossouw', 'Shivam Sharma', 'YS Chahal',\n",
       "       'LMP Simmons', 'VH Zol', 'Imran Tahir', 'BCJ Cutting',\n",
       "       'BE Hendricks', 'S Gopal', 'M de Lange', 'R Tewatia', 'JO Holder',\n",
       "       'Karanveer Singh', 'SS Iyer', 'DJ Hooda', 'Anureet Singh',\n",
       "       'KS Williamson', 'SA Abbott', 'J Suchith', 'RG More', 'D Wiese',\n",
       "       'HH Pandya', 'SN Khan', 'MJ McClenaghan', 'DJ Muthuswami',\n",
       "       'PJ Cummins', 'SN Thakur', 'JC Buttler', 'CR Brathwaite',\n",
       "       'MP Stoinis', 'Ishan Kishan', 'C Munro', 'P Sahu', 'KH Pandya',\n",
       "       'AD Nath', 'MJ Guptill', 'KJ Abbott', 'TM Head', 'M Ashwin',\n",
       "       'NS Naik', 'RR Pant', 'SW Billings', 'KC Cariappa',\n",
       "       'PSP Handscomb', 'Swapnil Singh', 'J Yadav', 'UT Khawaja',\n",
       "       'HM Amla', 'F Behardien', 'A Zampa', 'BB Sran', 'N Rana',\n",
       "       'S Kaushik', 'ER Dwivedi', 'CJ Jordan', 'A Choudhary', 'TS Mills',\n",
       "       'BA Stokes', 'JJ Roy', 'Vishnu Vinod', 'Basil Thampi', 'CR Woakes',\n",
       "       'RA Tripathi', 'DL Chahar', 'V Shankar', 'Rashid Khan',\n",
       "       'LH Ferguson', 'RD Chahar', 'C de Grandhomme', 'AF Milne',\n",
       "       'S Badree', 'Mohammad Nabi', 'AJ Tye', 'K Rabada', 'Kuldeep Yadav',\n",
       "       'Washington Sundar', 'DM Bravo', 'AR Bawne', 'SP Jackson',\n",
       "       'Ankit Soni', 'TA Boult', 'E Lewis', 'MA Wood', 'RK Singh',\n",
       "       'DJM Short', 'K Gowtham', 'TK Curran', 'M Markande', 'B Stanlake',\n",
       "       'Mujeeb Ur Rahman', 'A Dananjaya', 'Shivam Mavi', 'Shubman Gill',\n",
       "       'Mohammed Siraj', 'H Klaasen', 'RK Bhui', 'JC Archer', 'PP Shaw',\n",
       "       'LE Plunkett', 'Mustafizur Rahman', 'AD Hales', 'MK Lomror',\n",
       "       'DR Shorey', 'MM Ali', 'M Prasidh Krishna', 'P Chopra',\n",
       "       'JPR Scantlebury-Searles', 'Abhishek Sharma', 'IS Sodhi',\n",
       "       'SO Hetmyer', 'S Dube', 'NA Saini', 'JM Bairstow', 'Rasikh Salam',\n",
       "       'KMA Paul', 'N Pooran', 'P Ray Barman', 'S Lamichhane',\n",
       "       'SM Curran', 'GC Viljoen', 'Avesh Khan', 'HF Gurney', 'SD Lad',\n",
       "       'AS Joseph', 'MJ Santner', 'R Parag', 'JL Denly', 'LS Livingstone',\n",
       "       'KK Ahmed', 'AJ Turner', 'SE Rutherford', 'Harpreet Brar',\n",
       "       'Y Prithvi Raj', 'P Simran Singh', 'JL Pattinson', 'A Nortje',\n",
       "       'T Banton', 'D Padikkal', 'YBK Jaiswal', 'RD Gaikwad',\n",
       "       'TU Deshpande', 'Abdul Samad', 'PK Garg', 'JR Philippe',\n",
       "       'Kartik Tyagi', 'CV Varun', 'KL Nagarkoti', 'I Udana',\n",
       "       'Ravi Bishnoi', 'Shahbaz Ahmed', 'AT Carey', 'N Jagadeesan',\n",
       "       'T Natarajan', 'P Dubey', 'SS Cottrell', 'Arshdeep Singh',\n",
       "       'DR Sams'], dtype=object)"
      ]
     },
     "execution_count": 416,
     "metadata": {},
     "output_type": "execute_result"
    }
   ],
   "source": [
    "df['batsman'].unique()"
   ]
  },
  {
   "cell_type": "markdown",
   "metadata": {
    "id": "Y7lkOITTqx7P"
   },
   "source": [
    "#SureshRaina"
   ]
  },
  {
   "cell_type": "code",
   "execution_count": 417,
   "metadata": {
    "colab": {
     "base_uri": "https://localhost:8080/",
     "height": 299
    },
    "id": "T2TszGHXqgaX",
    "outputId": "c5fe6de2-5d2f-4cef-899e-71bd7a22c169"
   },
   "outputs": [
    {
     "data": {
      "text/html": [
       "<div>\n",
       "<style scoped>\n",
       "    .dataframe tbody tr th:only-of-type {\n",
       "        vertical-align: middle;\n",
       "    }\n",
       "\n",
       "    .dataframe tbody tr th {\n",
       "        vertical-align: top;\n",
       "    }\n",
       "\n",
       "    .dataframe thead th {\n",
       "        text-align: right;\n",
       "    }\n",
       "</style>\n",
       "<table border=\"1\" class=\"dataframe\">\n",
       "  <thead>\n",
       "    <tr style=\"text-align: right;\">\n",
       "      <th></th>\n",
       "      <th>id</th>\n",
       "      <th>inning</th>\n",
       "      <th>over</th>\n",
       "      <th>ball</th>\n",
       "      <th>batsman</th>\n",
       "      <th>non_striker</th>\n",
       "      <th>bowler</th>\n",
       "      <th>batsman_runs</th>\n",
       "      <th>extra_runs</th>\n",
       "      <th>total_runs</th>\n",
       "      <th>non_boundary</th>\n",
       "      <th>is_wicket</th>\n",
       "      <th>dismissal_kind</th>\n",
       "      <th>player_dismissed</th>\n",
       "      <th>fielder</th>\n",
       "      <th>extras_type</th>\n",
       "      <th>batting_team</th>\n",
       "      <th>bowling_team</th>\n",
       "    </tr>\n",
       "  </thead>\n",
       "  <tbody>\n",
       "    <tr>\n",
       "      <th>246</th>\n",
       "      <td>335983</td>\n",
       "      <td>1</td>\n",
       "      <td>10</td>\n",
       "      <td>3</td>\n",
       "      <td>SK Raina</td>\n",
       "      <td>MEK Hussey</td>\n",
       "      <td>PP Chawla</td>\n",
       "      <td>2</td>\n",
       "      <td>0</td>\n",
       "      <td>2</td>\n",
       "      <td>0</td>\n",
       "      <td>0</td>\n",
       "      <td>NaN</td>\n",
       "      <td>NaN</td>\n",
       "      <td>NaN</td>\n",
       "      <td>NaN</td>\n",
       "      <td>Chennai Super Kings</td>\n",
       "      <td>Kings XI Punjab</td>\n",
       "    </tr>\n",
       "    <tr>\n",
       "      <th>247</th>\n",
       "      <td>335983</td>\n",
       "      <td>1</td>\n",
       "      <td>10</td>\n",
       "      <td>4</td>\n",
       "      <td>SK Raina</td>\n",
       "      <td>MEK Hussey</td>\n",
       "      <td>PP Chawla</td>\n",
       "      <td>0</td>\n",
       "      <td>0</td>\n",
       "      <td>0</td>\n",
       "      <td>0</td>\n",
       "      <td>0</td>\n",
       "      <td>NaN</td>\n",
       "      <td>NaN</td>\n",
       "      <td>NaN</td>\n",
       "      <td>NaN</td>\n",
       "      <td>Chennai Super Kings</td>\n",
       "      <td>Kings XI Punjab</td>\n",
       "    </tr>\n",
       "    <tr>\n",
       "      <th>248</th>\n",
       "      <td>335983</td>\n",
       "      <td>1</td>\n",
       "      <td>10</td>\n",
       "      <td>5</td>\n",
       "      <td>SK Raina</td>\n",
       "      <td>MEK Hussey</td>\n",
       "      <td>PP Chawla</td>\n",
       "      <td>6</td>\n",
       "      <td>0</td>\n",
       "      <td>6</td>\n",
       "      <td>0</td>\n",
       "      <td>0</td>\n",
       "      <td>NaN</td>\n",
       "      <td>NaN</td>\n",
       "      <td>NaN</td>\n",
       "      <td>NaN</td>\n",
       "      <td>Chennai Super Kings</td>\n",
       "      <td>Kings XI Punjab</td>\n",
       "    </tr>\n",
       "    <tr>\n",
       "      <th>249</th>\n",
       "      <td>335983</td>\n",
       "      <td>1</td>\n",
       "      <td>10</td>\n",
       "      <td>6</td>\n",
       "      <td>SK Raina</td>\n",
       "      <td>MEK Hussey</td>\n",
       "      <td>PP Chawla</td>\n",
       "      <td>4</td>\n",
       "      <td>0</td>\n",
       "      <td>4</td>\n",
       "      <td>0</td>\n",
       "      <td>0</td>\n",
       "      <td>NaN</td>\n",
       "      <td>NaN</td>\n",
       "      <td>NaN</td>\n",
       "      <td>NaN</td>\n",
       "      <td>Chennai Super Kings</td>\n",
       "      <td>Kings XI Punjab</td>\n",
       "    </tr>\n",
       "    <tr>\n",
       "      <th>253</th>\n",
       "      <td>335983</td>\n",
       "      <td>1</td>\n",
       "      <td>11</td>\n",
       "      <td>4</td>\n",
       "      <td>SK Raina</td>\n",
       "      <td>MEK Hussey</td>\n",
       "      <td>K Goel</td>\n",
       "      <td>6</td>\n",
       "      <td>0</td>\n",
       "      <td>6</td>\n",
       "      <td>0</td>\n",
       "      <td>0</td>\n",
       "      <td>NaN</td>\n",
       "      <td>NaN</td>\n",
       "      <td>NaN</td>\n",
       "      <td>NaN</td>\n",
       "      <td>Chennai Super Kings</td>\n",
       "      <td>Kings XI Punjab</td>\n",
       "    </tr>\n",
       "  </tbody>\n",
       "</table>\n",
       "</div>"
      ],
      "text/plain": [
       "         id  inning  over  ball   batsman non_striker     bowler  \\\n",
       "246  335983       1    10     3  SK Raina  MEK Hussey  PP Chawla   \n",
       "247  335983       1    10     4  SK Raina  MEK Hussey  PP Chawla   \n",
       "248  335983       1    10     5  SK Raina  MEK Hussey  PP Chawla   \n",
       "249  335983       1    10     6  SK Raina  MEK Hussey  PP Chawla   \n",
       "253  335983       1    11     4  SK Raina  MEK Hussey     K Goel   \n",
       "\n",
       "     batsman_runs  extra_runs  total_runs  non_boundary  is_wicket  \\\n",
       "246             2           0           2             0          0   \n",
       "247             0           0           0             0          0   \n",
       "248             6           0           6             0          0   \n",
       "249             4           0           4             0          0   \n",
       "253             6           0           6             0          0   \n",
       "\n",
       "    dismissal_kind player_dismissed fielder extras_type         batting_team  \\\n",
       "246            NaN              NaN     NaN         NaN  Chennai Super Kings   \n",
       "247            NaN              NaN     NaN         NaN  Chennai Super Kings   \n",
       "248            NaN              NaN     NaN         NaN  Chennai Super Kings   \n",
       "249            NaN              NaN     NaN         NaN  Chennai Super Kings   \n",
       "253            NaN              NaN     NaN         NaN  Chennai Super Kings   \n",
       "\n",
       "        bowling_team  \n",
       "246  Kings XI Punjab  \n",
       "247  Kings XI Punjab  \n",
       "248  Kings XI Punjab  \n",
       "249  Kings XI Punjab  \n",
       "253  Kings XI Punjab  "
      ]
     },
     "execution_count": 417,
     "metadata": {},
     "output_type": "execute_result"
    }
   ],
   "source": [
    "sureshraina=df[df['batsman']== 'SK Raina']\n",
    "sureshraina.head()"
   ]
  },
  {
   "cell_type": "markdown",
   "metadata": {
    "id": "IPmboyUTvEb7"
   },
   "source": [
    "powerplayanalysis"
   ]
  },
  {
   "cell_type": "code",
   "execution_count": 418,
   "metadata": {
    "colab": {
     "base_uri": "https://localhost:8080/",
     "height": 299
    },
    "id": "43Fz8XJysJCG",
    "outputId": "16fa75c8-bc71-44a2-9c53-912801636244"
   },
   "outputs": [
    {
     "data": {
      "text/html": [
       "<div>\n",
       "<style scoped>\n",
       "    .dataframe tbody tr th:only-of-type {\n",
       "        vertical-align: middle;\n",
       "    }\n",
       "\n",
       "    .dataframe tbody tr th {\n",
       "        vertical-align: top;\n",
       "    }\n",
       "\n",
       "    .dataframe thead th {\n",
       "        text-align: right;\n",
       "    }\n",
       "</style>\n",
       "<table border=\"1\" class=\"dataframe\">\n",
       "  <thead>\n",
       "    <tr style=\"text-align: right;\">\n",
       "      <th></th>\n",
       "      <th>id</th>\n",
       "      <th>inning</th>\n",
       "      <th>over</th>\n",
       "      <th>ball</th>\n",
       "      <th>batsman</th>\n",
       "      <th>non_striker</th>\n",
       "      <th>bowler</th>\n",
       "      <th>batsman_runs</th>\n",
       "      <th>extra_runs</th>\n",
       "      <th>total_runs</th>\n",
       "      <th>non_boundary</th>\n",
       "      <th>is_wicket</th>\n",
       "      <th>dismissal_kind</th>\n",
       "      <th>player_dismissed</th>\n",
       "      <th>fielder</th>\n",
       "      <th>extras_type</th>\n",
       "      <th>batting_team</th>\n",
       "      <th>bowling_team</th>\n",
       "    </tr>\n",
       "  </thead>\n",
       "  <tbody>\n",
       "    <tr>\n",
       "      <th>1732</th>\n",
       "      <td>335989</td>\n",
       "      <td>1</td>\n",
       "      <td>4</td>\n",
       "      <td>5</td>\n",
       "      <td>SK Raina</td>\n",
       "      <td>ML Hayden</td>\n",
       "      <td>DS Kulkarni</td>\n",
       "      <td>0</td>\n",
       "      <td>0</td>\n",
       "      <td>0</td>\n",
       "      <td>0</td>\n",
       "      <td>0</td>\n",
       "      <td>NaN</td>\n",
       "      <td>NaN</td>\n",
       "      <td>NaN</td>\n",
       "      <td>NaN</td>\n",
       "      <td>Chennai Super Kings</td>\n",
       "      <td>Mumbai Indians</td>\n",
       "    </tr>\n",
       "    <tr>\n",
       "      <th>1733</th>\n",
       "      <td>335989</td>\n",
       "      <td>1</td>\n",
       "      <td>4</td>\n",
       "      <td>6</td>\n",
       "      <td>SK Raina</td>\n",
       "      <td>ML Hayden</td>\n",
       "      <td>DS Kulkarni</td>\n",
       "      <td>1</td>\n",
       "      <td>0</td>\n",
       "      <td>1</td>\n",
       "      <td>0</td>\n",
       "      <td>0</td>\n",
       "      <td>NaN</td>\n",
       "      <td>NaN</td>\n",
       "      <td>NaN</td>\n",
       "      <td>NaN</td>\n",
       "      <td>Chennai Super Kings</td>\n",
       "      <td>Mumbai Indians</td>\n",
       "    </tr>\n",
       "    <tr>\n",
       "      <th>1734</th>\n",
       "      <td>335989</td>\n",
       "      <td>1</td>\n",
       "      <td>5</td>\n",
       "      <td>1</td>\n",
       "      <td>SK Raina</td>\n",
       "      <td>ML Hayden</td>\n",
       "      <td>A Nehra</td>\n",
       "      <td>1</td>\n",
       "      <td>0</td>\n",
       "      <td>1</td>\n",
       "      <td>0</td>\n",
       "      <td>0</td>\n",
       "      <td>NaN</td>\n",
       "      <td>NaN</td>\n",
       "      <td>NaN</td>\n",
       "      <td>NaN</td>\n",
       "      <td>Chennai Super Kings</td>\n",
       "      <td>Mumbai Indians</td>\n",
       "    </tr>\n",
       "    <tr>\n",
       "      <th>1739</th>\n",
       "      <td>335989</td>\n",
       "      <td>1</td>\n",
       "      <td>5</td>\n",
       "      <td>6</td>\n",
       "      <td>SK Raina</td>\n",
       "      <td>ML Hayden</td>\n",
       "      <td>A Nehra</td>\n",
       "      <td>0</td>\n",
       "      <td>1</td>\n",
       "      <td>1</td>\n",
       "      <td>0</td>\n",
       "      <td>0</td>\n",
       "      <td>NaN</td>\n",
       "      <td>NaN</td>\n",
       "      <td>NaN</td>\n",
       "      <td>wides</td>\n",
       "      <td>Chennai Super Kings</td>\n",
       "      <td>Mumbai Indians</td>\n",
       "    </tr>\n",
       "    <tr>\n",
       "      <th>1740</th>\n",
       "      <td>335989</td>\n",
       "      <td>1</td>\n",
       "      <td>5</td>\n",
       "      <td>7</td>\n",
       "      <td>SK Raina</td>\n",
       "      <td>ML Hayden</td>\n",
       "      <td>A Nehra</td>\n",
       "      <td>1</td>\n",
       "      <td>0</td>\n",
       "      <td>1</td>\n",
       "      <td>0</td>\n",
       "      <td>0</td>\n",
       "      <td>NaN</td>\n",
       "      <td>NaN</td>\n",
       "      <td>NaN</td>\n",
       "      <td>NaN</td>\n",
       "      <td>Chennai Super Kings</td>\n",
       "      <td>Mumbai Indians</td>\n",
       "    </tr>\n",
       "  </tbody>\n",
       "</table>\n",
       "</div>"
      ],
      "text/plain": [
       "          id  inning  over  ball   batsman non_striker       bowler  \\\n",
       "1732  335989       1     4     5  SK Raina   ML Hayden  DS Kulkarni   \n",
       "1733  335989       1     4     6  SK Raina   ML Hayden  DS Kulkarni   \n",
       "1734  335989       1     5     1  SK Raina   ML Hayden      A Nehra   \n",
       "1739  335989       1     5     6  SK Raina   ML Hayden      A Nehra   \n",
       "1740  335989       1     5     7  SK Raina   ML Hayden      A Nehra   \n",
       "\n",
       "      batsman_runs  extra_runs  total_runs  non_boundary  is_wicket  \\\n",
       "1732             0           0           0             0          0   \n",
       "1733             1           0           1             0          0   \n",
       "1734             1           0           1             0          0   \n",
       "1739             0           1           1             0          0   \n",
       "1740             1           0           1             0          0   \n",
       "\n",
       "     dismissal_kind player_dismissed fielder extras_type         batting_team  \\\n",
       "1732            NaN              NaN     NaN         NaN  Chennai Super Kings   \n",
       "1733            NaN              NaN     NaN         NaN  Chennai Super Kings   \n",
       "1734            NaN              NaN     NaN         NaN  Chennai Super Kings   \n",
       "1739            NaN              NaN     NaN       wides  Chennai Super Kings   \n",
       "1740            NaN              NaN     NaN         NaN  Chennai Super Kings   \n",
       "\n",
       "        bowling_team  \n",
       "1732  Mumbai Indians  \n",
       "1733  Mumbai Indians  \n",
       "1734  Mumbai Indians  \n",
       "1739  Mumbai Indians  \n",
       "1740  Mumbai Indians  "
      ]
     },
     "execution_count": 418,
     "metadata": {},
     "output_type": "execute_result"
    }
   ],
   "source": [
    "powerplay=sureshraina[sureshraina['over']<6]\n",
    "powerplay.head()"
   ]
  },
  {
   "cell_type": "code",
   "execution_count": 419,
   "metadata": {
    "colab": {
     "base_uri": "https://localhost:8080/"
    },
    "id": "eKTavGq7uv1V",
    "outputId": "b28a8bf2-f974-4618-a98d-ac88ce2457c9"
   },
   "outputs": [
    {
     "name": "stdout",
     "output_type": "stream",
     "text": [
      "1534\n",
      "1188\n"
     ]
    }
   ],
   "source": [
    "Totalruns=0\n",
    "Totalballs=0\n",
    "for i in powerplay['batsman_runs']:\n",
    "  Totalruns=Totalruns+i\n",
    "  Totalballs=Totalballs+1\n",
    "print(Totalruns)  \n",
    "print(Totalballs)"
   ]
  },
  {
   "cell_type": "code",
   "execution_count": 420,
   "metadata": {
    "colab": {
     "base_uri": "https://localhost:8080/"
    },
    "id": "SvFVs6MXvf5i",
    "outputId": "856768e4-c93f-48d8-850d-33efe7c21b81"
   },
   "outputs": [
    {
     "name": "stdout",
     "output_type": "stream",
     "text": [
      "44\n"
     ]
    }
   ],
   "source": [
    "Noofdismissalsinpowerplay=0\n",
    "for i in powerplay['is_wicket']:\n",
    "  if(i==1):\n",
    "     Noofdismissalsinpowerplay=Noofdismissalsinpowerplay+1\n",
    "print(Noofdismissalsinpowerplay)  "
   ]
  },
  {
   "cell_type": "code",
   "execution_count": 421,
   "metadata": {
    "colab": {
     "base_uri": "https://localhost:8080/"
    },
    "id": "v3DJQmMzv6NB",
    "outputId": "b9627fea-d9eb-4886-ef5d-f2cc79f2969b"
   },
   "outputs": [
    {
     "name": "stdout",
     "output_type": "stream",
     "text": [
      "powerplayavg: 34.86363636363637\n",
      "powerplaysr: 129.12457912457913\n"
     ]
    }
   ],
   "source": [
    "powerplayavg=Totalruns/Noofdismissalsinpowerplay\n",
    "powerplaysr=Totalruns*100/Totalballs\n",
    "print(\"powerplayavg:\",powerplayavg)\n",
    "print(\"powerplaysr:\", powerplaysr)"
   ]
  },
  {
   "cell_type": "markdown",
   "metadata": {
    "id": "shQKCpJvwkgw"
   },
   "source": [
    "Midoveranalysis"
   ]
  },
  {
   "cell_type": "code",
   "execution_count": 422,
   "metadata": {
    "colab": {
     "base_uri": "https://localhost:8080/",
     "height": 299
    },
    "id": "WqxBIun8wL4H",
    "outputId": "bd35cf8a-c199-4486-ed5d-4ec33e5449a4"
   },
   "outputs": [
    {
     "data": {
      "text/html": [
       "<div>\n",
       "<style scoped>\n",
       "    .dataframe tbody tr th:only-of-type {\n",
       "        vertical-align: middle;\n",
       "    }\n",
       "\n",
       "    .dataframe tbody tr th {\n",
       "        vertical-align: top;\n",
       "    }\n",
       "\n",
       "    .dataframe thead th {\n",
       "        text-align: right;\n",
       "    }\n",
       "</style>\n",
       "<table border=\"1\" class=\"dataframe\">\n",
       "  <thead>\n",
       "    <tr style=\"text-align: right;\">\n",
       "      <th></th>\n",
       "      <th>id</th>\n",
       "      <th>inning</th>\n",
       "      <th>over</th>\n",
       "      <th>ball</th>\n",
       "      <th>batsman</th>\n",
       "      <th>non_striker</th>\n",
       "      <th>bowler</th>\n",
       "      <th>batsman_runs</th>\n",
       "      <th>extra_runs</th>\n",
       "      <th>total_runs</th>\n",
       "      <th>non_boundary</th>\n",
       "      <th>is_wicket</th>\n",
       "      <th>dismissal_kind</th>\n",
       "      <th>player_dismissed</th>\n",
       "      <th>fielder</th>\n",
       "      <th>extras_type</th>\n",
       "      <th>batting_team</th>\n",
       "      <th>bowling_team</th>\n",
       "    </tr>\n",
       "  </thead>\n",
       "  <tbody>\n",
       "    <tr>\n",
       "      <th>246</th>\n",
       "      <td>335983</td>\n",
       "      <td>1</td>\n",
       "      <td>10</td>\n",
       "      <td>3</td>\n",
       "      <td>SK Raina</td>\n",
       "      <td>MEK Hussey</td>\n",
       "      <td>PP Chawla</td>\n",
       "      <td>2</td>\n",
       "      <td>0</td>\n",
       "      <td>2</td>\n",
       "      <td>0</td>\n",
       "      <td>0</td>\n",
       "      <td>NaN</td>\n",
       "      <td>NaN</td>\n",
       "      <td>NaN</td>\n",
       "      <td>NaN</td>\n",
       "      <td>Chennai Super Kings</td>\n",
       "      <td>Kings XI Punjab</td>\n",
       "    </tr>\n",
       "    <tr>\n",
       "      <th>247</th>\n",
       "      <td>335983</td>\n",
       "      <td>1</td>\n",
       "      <td>10</td>\n",
       "      <td>4</td>\n",
       "      <td>SK Raina</td>\n",
       "      <td>MEK Hussey</td>\n",
       "      <td>PP Chawla</td>\n",
       "      <td>0</td>\n",
       "      <td>0</td>\n",
       "      <td>0</td>\n",
       "      <td>0</td>\n",
       "      <td>0</td>\n",
       "      <td>NaN</td>\n",
       "      <td>NaN</td>\n",
       "      <td>NaN</td>\n",
       "      <td>NaN</td>\n",
       "      <td>Chennai Super Kings</td>\n",
       "      <td>Kings XI Punjab</td>\n",
       "    </tr>\n",
       "    <tr>\n",
       "      <th>248</th>\n",
       "      <td>335983</td>\n",
       "      <td>1</td>\n",
       "      <td>10</td>\n",
       "      <td>5</td>\n",
       "      <td>SK Raina</td>\n",
       "      <td>MEK Hussey</td>\n",
       "      <td>PP Chawla</td>\n",
       "      <td>6</td>\n",
       "      <td>0</td>\n",
       "      <td>6</td>\n",
       "      <td>0</td>\n",
       "      <td>0</td>\n",
       "      <td>NaN</td>\n",
       "      <td>NaN</td>\n",
       "      <td>NaN</td>\n",
       "      <td>NaN</td>\n",
       "      <td>Chennai Super Kings</td>\n",
       "      <td>Kings XI Punjab</td>\n",
       "    </tr>\n",
       "    <tr>\n",
       "      <th>249</th>\n",
       "      <td>335983</td>\n",
       "      <td>1</td>\n",
       "      <td>10</td>\n",
       "      <td>6</td>\n",
       "      <td>SK Raina</td>\n",
       "      <td>MEK Hussey</td>\n",
       "      <td>PP Chawla</td>\n",
       "      <td>4</td>\n",
       "      <td>0</td>\n",
       "      <td>4</td>\n",
       "      <td>0</td>\n",
       "      <td>0</td>\n",
       "      <td>NaN</td>\n",
       "      <td>NaN</td>\n",
       "      <td>NaN</td>\n",
       "      <td>NaN</td>\n",
       "      <td>Chennai Super Kings</td>\n",
       "      <td>Kings XI Punjab</td>\n",
       "    </tr>\n",
       "    <tr>\n",
       "      <th>253</th>\n",
       "      <td>335983</td>\n",
       "      <td>1</td>\n",
       "      <td>11</td>\n",
       "      <td>4</td>\n",
       "      <td>SK Raina</td>\n",
       "      <td>MEK Hussey</td>\n",
       "      <td>K Goel</td>\n",
       "      <td>6</td>\n",
       "      <td>0</td>\n",
       "      <td>6</td>\n",
       "      <td>0</td>\n",
       "      <td>0</td>\n",
       "      <td>NaN</td>\n",
       "      <td>NaN</td>\n",
       "      <td>NaN</td>\n",
       "      <td>NaN</td>\n",
       "      <td>Chennai Super Kings</td>\n",
       "      <td>Kings XI Punjab</td>\n",
       "    </tr>\n",
       "  </tbody>\n",
       "</table>\n",
       "</div>"
      ],
      "text/plain": [
       "         id  inning  over  ball   batsman non_striker     bowler  \\\n",
       "246  335983       1    10     3  SK Raina  MEK Hussey  PP Chawla   \n",
       "247  335983       1    10     4  SK Raina  MEK Hussey  PP Chawla   \n",
       "248  335983       1    10     5  SK Raina  MEK Hussey  PP Chawla   \n",
       "249  335983       1    10     6  SK Raina  MEK Hussey  PP Chawla   \n",
       "253  335983       1    11     4  SK Raina  MEK Hussey     K Goel   \n",
       "\n",
       "     batsman_runs  extra_runs  total_runs  non_boundary  is_wicket  \\\n",
       "246             2           0           2             0          0   \n",
       "247             0           0           0             0          0   \n",
       "248             6           0           6             0          0   \n",
       "249             4           0           4             0          0   \n",
       "253             6           0           6             0          0   \n",
       "\n",
       "    dismissal_kind player_dismissed fielder extras_type         batting_team  \\\n",
       "246            NaN              NaN     NaN         NaN  Chennai Super Kings   \n",
       "247            NaN              NaN     NaN         NaN  Chennai Super Kings   \n",
       "248            NaN              NaN     NaN         NaN  Chennai Super Kings   \n",
       "249            NaN              NaN     NaN         NaN  Chennai Super Kings   \n",
       "253            NaN              NaN     NaN         NaN  Chennai Super Kings   \n",
       "\n",
       "        bowling_team  \n",
       "246  Kings XI Punjab  \n",
       "247  Kings XI Punjab  \n",
       "248  Kings XI Punjab  \n",
       "249  Kings XI Punjab  \n",
       "253  Kings XI Punjab  "
      ]
     },
     "execution_count": 422,
     "metadata": {},
     "output_type": "execute_result"
    }
   ],
   "source": [
    "midover=sureshraina[(sureshraina['over']>=6) & (sureshraina['over']<15)]\n",
    "midover.head()"
   ]
  },
  {
   "cell_type": "code",
   "execution_count": 423,
   "metadata": {
    "colab": {
     "base_uri": "https://localhost:8080/"
    },
    "id": "dqmyQ-acwxWb",
    "outputId": "5fc31e13-81ff-4d9c-a38e-d6f585f98be1"
   },
   "outputs": [
    {
     "name": "stdout",
     "output_type": "stream",
     "text": [
      "2969\n",
      "2337\n"
     ]
    }
   ],
   "source": [
    "Totalruns=0\n",
    "Totalballs=0\n",
    "for i in midover['batsman_runs']:\n",
    "  Totalruns=Totalruns+i\n",
    "  Totalballs=Totalballs+1\n",
    "print(Totalruns)  \n",
    "print(Totalballs)"
   ]
  },
  {
   "cell_type": "code",
   "execution_count": 424,
   "metadata": {
    "colab": {
     "base_uri": "https://localhost:8080/"
    },
    "id": "K09VWooIxZy1",
    "outputId": "0f403a73-631c-43f5-9ec9-1b5b71a349ca"
   },
   "outputs": [
    {
     "name": "stdout",
     "output_type": "stream",
     "text": [
      "91\n"
     ]
    }
   ],
   "source": [
    "Noofdismissalsinmidover=0\n",
    "for i in midover['is_wicket']:\n",
    "  if(i==1):\n",
    "     Noofdismissalsinmidover=Noofdismissalsinmidover+1\n",
    "print(Noofdismissalsinmidover) "
   ]
  },
  {
   "cell_type": "code",
   "execution_count": 425,
   "metadata": {
    "colab": {
     "base_uri": "https://localhost:8080/"
    },
    "id": "1aWmZ6xkxkSF",
    "outputId": "c6c95187-433c-43c0-daca-ebd4e15dc15f"
   },
   "outputs": [
    {
     "name": "stdout",
     "output_type": "stream",
     "text": [
      "midoveravg: 32.62637362637363\n",
      "midoverse: 127.04321780059905\n"
     ]
    }
   ],
   "source": [
    "midoveravg=Totalruns/Noofdismissalsinmidover\n",
    "midoversr=Totalruns*100/Totalballs\n",
    "print(\"midoveravg:\", midoveravg)\n",
    "print(\"midoverse:\", midoversr)"
   ]
  },
  {
   "cell_type": "markdown",
   "metadata": {
    "id": "JfuYAX-pxwJ-"
   },
   "source": [
    "Death over analysis"
   ]
  },
  {
   "cell_type": "code",
   "execution_count": 426,
   "metadata": {
    "colab": {
     "base_uri": "https://localhost:8080/",
     "height": 316
    },
    "id": "qJb6H8_bxuZs",
    "outputId": "dbe5e0f1-5c46-4132-859a-3c50a9b0558e"
   },
   "outputs": [
    {
     "data": {
      "text/html": [
       "<div>\n",
       "<style scoped>\n",
       "    .dataframe tbody tr th:only-of-type {\n",
       "        vertical-align: middle;\n",
       "    }\n",
       "\n",
       "    .dataframe tbody tr th {\n",
       "        vertical-align: top;\n",
       "    }\n",
       "\n",
       "    .dataframe thead th {\n",
       "        text-align: right;\n",
       "    }\n",
       "</style>\n",
       "<table border=\"1\" class=\"dataframe\">\n",
       "  <thead>\n",
       "    <tr style=\"text-align: right;\">\n",
       "      <th></th>\n",
       "      <th>id</th>\n",
       "      <th>inning</th>\n",
       "      <th>over</th>\n",
       "      <th>ball</th>\n",
       "      <th>batsman</th>\n",
       "      <th>non_striker</th>\n",
       "      <th>bowler</th>\n",
       "      <th>batsman_runs</th>\n",
       "      <th>extra_runs</th>\n",
       "      <th>total_runs</th>\n",
       "      <th>non_boundary</th>\n",
       "      <th>is_wicket</th>\n",
       "      <th>dismissal_kind</th>\n",
       "      <th>player_dismissed</th>\n",
       "      <th>fielder</th>\n",
       "      <th>extras_type</th>\n",
       "      <th>batting_team</th>\n",
       "      <th>bowling_team</th>\n",
       "    </tr>\n",
       "  </thead>\n",
       "  <tbody>\n",
       "    <tr>\n",
       "      <th>4698</th>\n",
       "      <td>336001</td>\n",
       "      <td>1</td>\n",
       "      <td>17</td>\n",
       "      <td>4</td>\n",
       "      <td>SK Raina</td>\n",
       "      <td>JA Morkel</td>\n",
       "      <td>Mohammad Asif</td>\n",
       "      <td>1</td>\n",
       "      <td>0</td>\n",
       "      <td>1</td>\n",
       "      <td>0</td>\n",
       "      <td>0</td>\n",
       "      <td>NaN</td>\n",
       "      <td>NaN</td>\n",
       "      <td>NaN</td>\n",
       "      <td>NaN</td>\n",
       "      <td>Chennai Super Kings</td>\n",
       "      <td>Delhi Daredevils</td>\n",
       "    </tr>\n",
       "    <tr>\n",
       "      <th>4699</th>\n",
       "      <td>336001</td>\n",
       "      <td>1</td>\n",
       "      <td>17</td>\n",
       "      <td>5</td>\n",
       "      <td>SK Raina</td>\n",
       "      <td>JA Morkel</td>\n",
       "      <td>Mohammad Asif</td>\n",
       "      <td>0</td>\n",
       "      <td>0</td>\n",
       "      <td>0</td>\n",
       "      <td>0</td>\n",
       "      <td>0</td>\n",
       "      <td>NaN</td>\n",
       "      <td>NaN</td>\n",
       "      <td>NaN</td>\n",
       "      <td>NaN</td>\n",
       "      <td>Chennai Super Kings</td>\n",
       "      <td>Delhi Daredevils</td>\n",
       "    </tr>\n",
       "    <tr>\n",
       "      <th>4700</th>\n",
       "      <td>336001</td>\n",
       "      <td>1</td>\n",
       "      <td>17</td>\n",
       "      <td>6</td>\n",
       "      <td>SK Raina</td>\n",
       "      <td>JA Morkel</td>\n",
       "      <td>Mohammad Asif</td>\n",
       "      <td>1</td>\n",
       "      <td>0</td>\n",
       "      <td>1</td>\n",
       "      <td>0</td>\n",
       "      <td>0</td>\n",
       "      <td>NaN</td>\n",
       "      <td>NaN</td>\n",
       "      <td>NaN</td>\n",
       "      <td>NaN</td>\n",
       "      <td>Chennai Super Kings</td>\n",
       "      <td>Delhi Daredevils</td>\n",
       "    </tr>\n",
       "    <tr>\n",
       "      <th>4701</th>\n",
       "      <td>336001</td>\n",
       "      <td>1</td>\n",
       "      <td>18</td>\n",
       "      <td>1</td>\n",
       "      <td>SK Raina</td>\n",
       "      <td>JA Morkel</td>\n",
       "      <td>PJ Sangwan</td>\n",
       "      <td>1</td>\n",
       "      <td>0</td>\n",
       "      <td>1</td>\n",
       "      <td>0</td>\n",
       "      <td>0</td>\n",
       "      <td>NaN</td>\n",
       "      <td>NaN</td>\n",
       "      <td>NaN</td>\n",
       "      <td>NaN</td>\n",
       "      <td>Chennai Super Kings</td>\n",
       "      <td>Delhi Daredevils</td>\n",
       "    </tr>\n",
       "    <tr>\n",
       "      <th>10993</th>\n",
       "      <td>336029</td>\n",
       "      <td>2</td>\n",
       "      <td>15</td>\n",
       "      <td>1</td>\n",
       "      <td>SK Raina</td>\n",
       "      <td>JA Morkel</td>\n",
       "      <td>DW Steyn</td>\n",
       "      <td>1</td>\n",
       "      <td>0</td>\n",
       "      <td>1</td>\n",
       "      <td>0</td>\n",
       "      <td>0</td>\n",
       "      <td>NaN</td>\n",
       "      <td>NaN</td>\n",
       "      <td>NaN</td>\n",
       "      <td>NaN</td>\n",
       "      <td>Chennai Super Kings</td>\n",
       "      <td>Royal Challengers Bangalore</td>\n",
       "    </tr>\n",
       "  </tbody>\n",
       "</table>\n",
       "</div>"
      ],
      "text/plain": [
       "           id  inning  over  ball   batsman non_striker         bowler  \\\n",
       "4698   336001       1    17     4  SK Raina   JA Morkel  Mohammad Asif   \n",
       "4699   336001       1    17     5  SK Raina   JA Morkel  Mohammad Asif   \n",
       "4700   336001       1    17     6  SK Raina   JA Morkel  Mohammad Asif   \n",
       "4701   336001       1    18     1  SK Raina   JA Morkel     PJ Sangwan   \n",
       "10993  336029       2    15     1  SK Raina   JA Morkel       DW Steyn   \n",
       "\n",
       "       batsman_runs  extra_runs  total_runs  non_boundary  is_wicket  \\\n",
       "4698              1           0           1             0          0   \n",
       "4699              0           0           0             0          0   \n",
       "4700              1           0           1             0          0   \n",
       "4701              1           0           1             0          0   \n",
       "10993             1           0           1             0          0   \n",
       "\n",
       "      dismissal_kind player_dismissed fielder extras_type  \\\n",
       "4698             NaN              NaN     NaN         NaN   \n",
       "4699             NaN              NaN     NaN         NaN   \n",
       "4700             NaN              NaN     NaN         NaN   \n",
       "4701             NaN              NaN     NaN         NaN   \n",
       "10993            NaN              NaN     NaN         NaN   \n",
       "\n",
       "              batting_team                 bowling_team  \n",
       "4698   Chennai Super Kings             Delhi Daredevils  \n",
       "4699   Chennai Super Kings             Delhi Daredevils  \n",
       "4700   Chennai Super Kings             Delhi Daredevils  \n",
       "4701   Chennai Super Kings             Delhi Daredevils  \n",
       "10993  Chennai Super Kings  Royal Challengers Bangalore  "
      ]
     },
     "execution_count": 426,
     "metadata": {},
     "output_type": "execute_result"
    }
   ],
   "source": [
    "deathover=sureshraina[(sureshraina['over']>=15)]\n",
    "deathover.head()"
   ]
  },
  {
   "cell_type": "code",
   "execution_count": 427,
   "metadata": {
    "colab": {
     "base_uri": "https://localhost:8080/"
    },
    "id": "EBRuMARMyASy",
    "outputId": "28b20055-1329-48aa-e93e-48a55683ae4b"
   },
   "outputs": [
    {
     "name": "stdout",
     "output_type": "stream",
     "text": [
      "865\n",
      "516\n"
     ]
    }
   ],
   "source": [
    "Totalruns=0\n",
    "Totalballs=0\n",
    "for i in deathover['batsman_runs']:\n",
    "  Totalruns=Totalruns+i\n",
    "  Totalballs=Totalballs+1\n",
    "print(Totalruns)  \n",
    "print(Totalballs)"
   ]
  },
  {
   "cell_type": "code",
   "execution_count": 428,
   "metadata": {
    "colab": {
     "base_uri": "https://localhost:8080/"
    },
    "id": "GZJO2OglyHkB",
    "outputId": "3fc9121e-e8a4-41b4-ccb2-604012102d60"
   },
   "outputs": [
    {
     "name": "stdout",
     "output_type": "stream",
     "text": [
      "25\n"
     ]
    }
   ],
   "source": [
    "Noofdismissalsindeathover=0\n",
    "for i in deathover['is_wicket']:\n",
    "  if(i==1):\n",
    "     Noofdismissalsindeathover=Noofdismissalsindeathover+1\n",
    "print(Noofdismissalsindeathover) "
   ]
  },
  {
   "cell_type": "code",
   "execution_count": 429,
   "metadata": {
    "colab": {
     "base_uri": "https://localhost:8080/"
    },
    "id": "lFtB_sPbySFO",
    "outputId": "d391eff5-5ae5-4662-b9b7-b73dbe048b53"
   },
   "outputs": [
    {
     "name": "stdout",
     "output_type": "stream",
     "text": [
      "deathoveravg: 34.6\n",
      "deathoversr: 167.63565891472868\n"
     ]
    }
   ],
   "source": [
    "deathoveravg=Totalruns/Noofdismissalsindeathover\n",
    "deathoversr=Totalruns*100/Totalballs\n",
    "print(\"deathoveravg:\",deathoveravg)\n",
    "print(\"deathoversr:\", deathoversr)"
   ]
  },
  {
   "cell_type": "markdown",
   "metadata": {
    "id": "gMLibGJ9y8by"
   },
   "source": []
  },
  {
   "cell_type": "code",
   "execution_count": 430,
   "metadata": {
    "colab": {
     "base_uri": "https://localhost:8080/",
     "height": 299
    },
    "id": "QPb3ows_yaBo",
    "outputId": "78c8894b-21b5-43e6-9a9f-f15e0efb75be"
   },
   "outputs": [
    {
     "data": {
      "text/html": [
       "<div>\n",
       "<style scoped>\n",
       "    .dataframe tbody tr th:only-of-type {\n",
       "        vertical-align: middle;\n",
       "    }\n",
       "\n",
       "    .dataframe tbody tr th {\n",
       "        vertical-align: top;\n",
       "    }\n",
       "\n",
       "    .dataframe thead th {\n",
       "        text-align: right;\n",
       "    }\n",
       "</style>\n",
       "<table border=\"1\" class=\"dataframe\">\n",
       "  <thead>\n",
       "    <tr style=\"text-align: right;\">\n",
       "      <th></th>\n",
       "      <th>id</th>\n",
       "      <th>inning</th>\n",
       "      <th>over</th>\n",
       "      <th>ball</th>\n",
       "      <th>batsman</th>\n",
       "      <th>non_striker</th>\n",
       "      <th>bowler</th>\n",
       "      <th>batsman_runs</th>\n",
       "      <th>extra_runs</th>\n",
       "      <th>total_runs</th>\n",
       "      <th>non_boundary</th>\n",
       "      <th>is_wicket</th>\n",
       "      <th>dismissal_kind</th>\n",
       "      <th>player_dismissed</th>\n",
       "      <th>fielder</th>\n",
       "      <th>extras_type</th>\n",
       "      <th>batting_team</th>\n",
       "      <th>bowling_team</th>\n",
       "    </tr>\n",
       "  </thead>\n",
       "  <tbody>\n",
       "    <tr>\n",
       "      <th>246</th>\n",
       "      <td>335983</td>\n",
       "      <td>1</td>\n",
       "      <td>10</td>\n",
       "      <td>3</td>\n",
       "      <td>SK Raina</td>\n",
       "      <td>MEK Hussey</td>\n",
       "      <td>PP Chawla</td>\n",
       "      <td>2</td>\n",
       "      <td>0</td>\n",
       "      <td>2</td>\n",
       "      <td>0</td>\n",
       "      <td>0</td>\n",
       "      <td>NaN</td>\n",
       "      <td>NaN</td>\n",
       "      <td>NaN</td>\n",
       "      <td>NaN</td>\n",
       "      <td>Chennai Super Kings</td>\n",
       "      <td>Kings XI Punjab</td>\n",
       "    </tr>\n",
       "    <tr>\n",
       "      <th>247</th>\n",
       "      <td>335983</td>\n",
       "      <td>1</td>\n",
       "      <td>10</td>\n",
       "      <td>4</td>\n",
       "      <td>SK Raina</td>\n",
       "      <td>MEK Hussey</td>\n",
       "      <td>PP Chawla</td>\n",
       "      <td>0</td>\n",
       "      <td>0</td>\n",
       "      <td>0</td>\n",
       "      <td>0</td>\n",
       "      <td>0</td>\n",
       "      <td>NaN</td>\n",
       "      <td>NaN</td>\n",
       "      <td>NaN</td>\n",
       "      <td>NaN</td>\n",
       "      <td>Chennai Super Kings</td>\n",
       "      <td>Kings XI Punjab</td>\n",
       "    </tr>\n",
       "    <tr>\n",
       "      <th>248</th>\n",
       "      <td>335983</td>\n",
       "      <td>1</td>\n",
       "      <td>10</td>\n",
       "      <td>5</td>\n",
       "      <td>SK Raina</td>\n",
       "      <td>MEK Hussey</td>\n",
       "      <td>PP Chawla</td>\n",
       "      <td>6</td>\n",
       "      <td>0</td>\n",
       "      <td>6</td>\n",
       "      <td>0</td>\n",
       "      <td>0</td>\n",
       "      <td>NaN</td>\n",
       "      <td>NaN</td>\n",
       "      <td>NaN</td>\n",
       "      <td>NaN</td>\n",
       "      <td>Chennai Super Kings</td>\n",
       "      <td>Kings XI Punjab</td>\n",
       "    </tr>\n",
       "    <tr>\n",
       "      <th>249</th>\n",
       "      <td>335983</td>\n",
       "      <td>1</td>\n",
       "      <td>10</td>\n",
       "      <td>6</td>\n",
       "      <td>SK Raina</td>\n",
       "      <td>MEK Hussey</td>\n",
       "      <td>PP Chawla</td>\n",
       "      <td>4</td>\n",
       "      <td>0</td>\n",
       "      <td>4</td>\n",
       "      <td>0</td>\n",
       "      <td>0</td>\n",
       "      <td>NaN</td>\n",
       "      <td>NaN</td>\n",
       "      <td>NaN</td>\n",
       "      <td>NaN</td>\n",
       "      <td>Chennai Super Kings</td>\n",
       "      <td>Kings XI Punjab</td>\n",
       "    </tr>\n",
       "    <tr>\n",
       "      <th>253</th>\n",
       "      <td>335983</td>\n",
       "      <td>1</td>\n",
       "      <td>11</td>\n",
       "      <td>4</td>\n",
       "      <td>SK Raina</td>\n",
       "      <td>MEK Hussey</td>\n",
       "      <td>K Goel</td>\n",
       "      <td>6</td>\n",
       "      <td>0</td>\n",
       "      <td>6</td>\n",
       "      <td>0</td>\n",
       "      <td>0</td>\n",
       "      <td>NaN</td>\n",
       "      <td>NaN</td>\n",
       "      <td>NaN</td>\n",
       "      <td>NaN</td>\n",
       "      <td>Chennai Super Kings</td>\n",
       "      <td>Kings XI Punjab</td>\n",
       "    </tr>\n",
       "  </tbody>\n",
       "</table>\n",
       "</div>"
      ],
      "text/plain": [
       "         id  inning  over  ball   batsman non_striker     bowler  \\\n",
       "246  335983       1    10     3  SK Raina  MEK Hussey  PP Chawla   \n",
       "247  335983       1    10     4  SK Raina  MEK Hussey  PP Chawla   \n",
       "248  335983       1    10     5  SK Raina  MEK Hussey  PP Chawla   \n",
       "249  335983       1    10     6  SK Raina  MEK Hussey  PP Chawla   \n",
       "253  335983       1    11     4  SK Raina  MEK Hussey     K Goel   \n",
       "\n",
       "     batsman_runs  extra_runs  total_runs  non_boundary  is_wicket  \\\n",
       "246             2           0           2             0          0   \n",
       "247             0           0           0             0          0   \n",
       "248             6           0           6             0          0   \n",
       "249             4           0           4             0          0   \n",
       "253             6           0           6             0          0   \n",
       "\n",
       "    dismissal_kind player_dismissed fielder extras_type         batting_team  \\\n",
       "246            NaN              NaN     NaN         NaN  Chennai Super Kings   \n",
       "247            NaN              NaN     NaN         NaN  Chennai Super Kings   \n",
       "248            NaN              NaN     NaN         NaN  Chennai Super Kings   \n",
       "249            NaN              NaN     NaN         NaN  Chennai Super Kings   \n",
       "253            NaN              NaN     NaN         NaN  Chennai Super Kings   \n",
       "\n",
       "        bowling_team  \n",
       "246  Kings XI Punjab  \n",
       "247  Kings XI Punjab  \n",
       "248  Kings XI Punjab  \n",
       "249  Kings XI Punjab  \n",
       "253  Kings XI Punjab  "
      ]
     },
     "execution_count": 430,
     "metadata": {},
     "output_type": "execute_result"
    }
   ],
   "source": [
    "sureshraina.head()"
   ]
  },
  {
   "cell_type": "code",
   "execution_count": 431,
   "metadata": {
    "id": "WNEf0d_P4zTF"
   },
   "outputs": [],
   "source": [
    "uniquematchid=[]\n",
    "noofballs=[]\n",
    "count=0\n",
    "for i in sureshraina['id']:\n",
    "   if i not in uniquematchid:\n",
    "     if(count>0):\n",
    "       noofballs.append(count)\n",
    "     count=1\n",
    "     uniquematchid.append(i)\n",
    "   else:\n",
    "     count=count+1 \n",
    "noofballs.append(count)\n",
    "  "
   ]
  },
  {
   "cell_type": "code",
   "execution_count": 432,
   "metadata": {
    "colab": {
     "base_uri": "https://localhost:8080/"
    },
    "id": "_QC8_zgJ85H6",
    "outputId": "6049cacd-e284-40c6-c2b6-749f11b60ded"
   },
   "outputs": [
    {
     "data": {
      "text/plain": [
       "189"
      ]
     },
     "execution_count": 432,
     "metadata": {},
     "output_type": "execute_result"
    }
   ],
   "source": [
    "len(uniquematchid )"
   ]
  },
  {
   "cell_type": "code",
   "execution_count": 433,
   "metadata": {
    "id": "vcDJeFmf5J4g"
   },
   "outputs": [],
   "source": [
    "runsscoredlessthan15balls=0\n",
    "runsscored15to30balls=0\n",
    "runsscoredgreaterthan30balls=0\n",
    "totalballslessthan15=0\n",
    "totalballs15to30=0\n",
    "totalballsgreaterthan30=0\n",
    "numberofdismissalslessthan15=0\n",
    "numberofdismissals15to30=0\n",
    "numberofdismissalsgreaterthan30=0\n"
   ]
  },
  {
   "cell_type": "code",
   "execution_count": 434,
   "metadata": {
    "id": "dIP796A75cPD"
   },
   "outputs": [],
   "source": [
    "k=0\n",
    "ball=0\n",
    "for i in sureshraina['batsman_runs']:\n",
    "     ball=ball+1\n",
    "     if(ball<15):\n",
    "         runsscoredlessthan15balls=runsscoredlessthan15balls+i\n",
    "         totalballslessthan15=totalballslessthan15+1\n",
    "     elif(ball>=15 and ball<=30):\n",
    "         runsscored15to30balls=runsscored15to30balls+i\n",
    "         totalballs15to30=totalballs15to30+1\n",
    "     elif(ball>30):\n",
    "         runsscoredgreaterthan30balls=runsscoredgreaterthan30balls+i\n",
    "         totalballsgreaterthan30=totalballsgreaterthan30+1\n",
    "     if(ball==noofballs[k]):\n",
    "      \n",
    "       k=k+1\n",
    "       ball=0    \n",
    "\n"
   ]
  },
  {
   "cell_type": "code",
   "execution_count": 435,
   "metadata": {
    "id": "VEUjDQ37-Uaq"
   },
   "outputs": [],
   "source": [
    "k=0\n",
    "ball=0\n",
    "for i in sureshraina['is_wicket']:\n",
    "     ball=ball+1\n",
    "     if(ball<15):\n",
    "         if(i==1):\n",
    "           numberofdismissalslessthan15=numberofdismissalslessthan15+1\n",
    "     elif(ball>=15 and ball<=30):\n",
    "         if(i==1):\n",
    "           numberofdismissals15to30=numberofdismissals15to30+1\n",
    "     elif(ball>30):\n",
    "         if(i==1):\n",
    "           numberofdismissalsgreaterthan30=numberofdismissalsgreaterthan30+1\n",
    "\n",
    "     if(ball==noofballs[k]):\n",
    "      \n",
    "       k=k+1\n",
    "       ball=0   "
   ]
  },
  {
   "cell_type": "code",
   "execution_count": 436,
   "metadata": {
    "colab": {
     "base_uri": "https://localhost:8080/"
    },
    "id": "mLBNVZFgAbgz",
    "outputId": "e3630be5-1677-48e9-debd-c87f4a0c4490"
   },
   "outputs": [
    {
     "name": "stdout",
     "output_type": "stream",
     "text": [
      "sr less than 15 balls:  125.1270207852194\n",
      "avg less than 15 balss: 29.445652173913043\n"
     ]
    }
   ],
   "source": [
    "strikeratelessthan15balls=(runsscoredlessthan15balls*100)/totalballslessthan15\n",
    "avglessthan15balls=runsscoredlessthan15balls/numberofdismissalslessthan15\n",
    "print(\"sr less than 15 balls: \",strikeratelessthan15balls)\n",
    "print(\"avg less than 15 balss:\", avglessthan15balls)"
   ]
  },
  {
   "cell_type": "code",
   "execution_count": 437,
   "metadata": {
    "colab": {
     "base_uri": "https://localhost:8080/"
    },
    "id": "Lnhz1qWZA2uG",
    "outputId": "fede92a1-80ec-4104-81e1-6dedae0040dd"
   },
   "outputs": [
    {
     "name": "stdout",
     "output_type": "stream",
     "text": [
      "sr 15 to 30 balls: 136.49579188982403\n",
      "avg 15 to 30 balls: 34.30769230769231\n"
     ]
    }
   ],
   "source": [
    "strikerate15to30balls=(runsscored15to30balls*100)/totalballs15to30\n",
    "avg15to30balls=runsscored15to30balls/numberofdismissals15to30\n",
    "print(\"sr 15 to 30 balls:\" ,strikerate15to30balls)\n",
    "print(\"avg 15 to 30 balls:\",avg15to30balls)"
   ]
  },
  {
   "cell_type": "code",
   "execution_count": 438,
   "metadata": {
    "colab": {
     "base_uri": "https://localhost:8080/"
    },
    "id": "Y2J2O3FlBQTe",
    "outputId": "4731c6ab-ec74-4802-b6cf-7ec85a0ce199"
   },
   "outputs": [
    {
     "name": "stdout",
     "output_type": "stream",
     "text": [
      "sr more than 30 balls: 153.7785588752197\n",
      "avg more than 30 balls: 54.6875\n"
     ]
    }
   ],
   "source": [
    "strikeratemorethan30balls=(runsscoredgreaterthan30balls*100)/totalballsgreaterthan30\n",
    "avgmorethan30balls=runsscoredgreaterthan30balls/numberofdismissalsgreaterthan30\n",
    "print(\"sr more than 30 balls:\",strikeratemorethan30balls)\n",
    "print(\"avg more than 30 balls:\", avgmorethan30balls)"
   ]
  },
  {
   "cell_type": "markdown",
   "metadata": {
    "id": "qyrWpHXtDNeA"
   },
   "source": [
    "matchwiseanalysis"
   ]
  },
  {
   "cell_type": "code",
   "execution_count": 439,
   "metadata": {
    "colab": {
     "base_uri": "https://localhost:8080/",
     "height": 400
    },
    "id": "XXBMgyqUBsUg",
    "outputId": "dbb825d6-13bd-4a31-de03-fe5f27dcac87"
   },
   "outputs": [
    {
     "data": {
      "text/html": [
       "<div>\n",
       "<style scoped>\n",
       "    .dataframe tbody tr th:only-of-type {\n",
       "        vertical-align: middle;\n",
       "    }\n",
       "\n",
       "    .dataframe tbody tr th {\n",
       "        vertical-align: top;\n",
       "    }\n",
       "\n",
       "    .dataframe thead th {\n",
       "        text-align: right;\n",
       "    }\n",
       "</style>\n",
       "<table border=\"1\" class=\"dataframe\">\n",
       "  <thead>\n",
       "    <tr style=\"text-align: right;\">\n",
       "      <th></th>\n",
       "      <th>id</th>\n",
       "      <th>city</th>\n",
       "      <th>date</th>\n",
       "      <th>player_of_match</th>\n",
       "      <th>venue</th>\n",
       "      <th>neutral_venue</th>\n",
       "      <th>team1</th>\n",
       "      <th>team2</th>\n",
       "      <th>toss_winner</th>\n",
       "      <th>toss_decision</th>\n",
       "      <th>winner</th>\n",
       "      <th>result</th>\n",
       "      <th>result_margin</th>\n",
       "      <th>eliminator</th>\n",
       "      <th>method</th>\n",
       "      <th>umpire1</th>\n",
       "      <th>umpire2</th>\n",
       "    </tr>\n",
       "  </thead>\n",
       "  <tbody>\n",
       "    <tr>\n",
       "      <th>0</th>\n",
       "      <td>335982</td>\n",
       "      <td>Bangalore</td>\n",
       "      <td>2008-04-18</td>\n",
       "      <td>BB McCullum</td>\n",
       "      <td>M Chinnaswamy Stadium</td>\n",
       "      <td>0</td>\n",
       "      <td>Royal Challengers Bangalore</td>\n",
       "      <td>Kolkata Knight Riders</td>\n",
       "      <td>Royal Challengers Bangalore</td>\n",
       "      <td>field</td>\n",
       "      <td>Kolkata Knight Riders</td>\n",
       "      <td>runs</td>\n",
       "      <td>140.0</td>\n",
       "      <td>N</td>\n",
       "      <td>NaN</td>\n",
       "      <td>Asad Rauf</td>\n",
       "      <td>RE Koertzen</td>\n",
       "    </tr>\n",
       "    <tr>\n",
       "      <th>1</th>\n",
       "      <td>335983</td>\n",
       "      <td>Chandigarh</td>\n",
       "      <td>2008-04-19</td>\n",
       "      <td>MEK Hussey</td>\n",
       "      <td>Punjab Cricket Association Stadium, Mohali</td>\n",
       "      <td>0</td>\n",
       "      <td>Kings XI Punjab</td>\n",
       "      <td>Chennai Super Kings</td>\n",
       "      <td>Chennai Super Kings</td>\n",
       "      <td>bat</td>\n",
       "      <td>Chennai Super Kings</td>\n",
       "      <td>runs</td>\n",
       "      <td>33.0</td>\n",
       "      <td>N</td>\n",
       "      <td>NaN</td>\n",
       "      <td>MR Benson</td>\n",
       "      <td>SL Shastri</td>\n",
       "    </tr>\n",
       "    <tr>\n",
       "      <th>2</th>\n",
       "      <td>335984</td>\n",
       "      <td>Delhi</td>\n",
       "      <td>2008-04-19</td>\n",
       "      <td>MF Maharoof</td>\n",
       "      <td>Feroz Shah Kotla</td>\n",
       "      <td>0</td>\n",
       "      <td>Delhi Daredevils</td>\n",
       "      <td>Rajasthan Royals</td>\n",
       "      <td>Rajasthan Royals</td>\n",
       "      <td>bat</td>\n",
       "      <td>Delhi Daredevils</td>\n",
       "      <td>wickets</td>\n",
       "      <td>9.0</td>\n",
       "      <td>N</td>\n",
       "      <td>NaN</td>\n",
       "      <td>Aleem Dar</td>\n",
       "      <td>GA Pratapkumar</td>\n",
       "    </tr>\n",
       "    <tr>\n",
       "      <th>3</th>\n",
       "      <td>335985</td>\n",
       "      <td>Mumbai</td>\n",
       "      <td>2008-04-20</td>\n",
       "      <td>MV Boucher</td>\n",
       "      <td>Wankhede Stadium</td>\n",
       "      <td>0</td>\n",
       "      <td>Mumbai Indians</td>\n",
       "      <td>Royal Challengers Bangalore</td>\n",
       "      <td>Mumbai Indians</td>\n",
       "      <td>bat</td>\n",
       "      <td>Royal Challengers Bangalore</td>\n",
       "      <td>wickets</td>\n",
       "      <td>5.0</td>\n",
       "      <td>N</td>\n",
       "      <td>NaN</td>\n",
       "      <td>SJ Davis</td>\n",
       "      <td>DJ Harper</td>\n",
       "    </tr>\n",
       "    <tr>\n",
       "      <th>4</th>\n",
       "      <td>335986</td>\n",
       "      <td>Kolkata</td>\n",
       "      <td>2008-04-20</td>\n",
       "      <td>DJ Hussey</td>\n",
       "      <td>Eden Gardens</td>\n",
       "      <td>0</td>\n",
       "      <td>Kolkata Knight Riders</td>\n",
       "      <td>Deccan Chargers</td>\n",
       "      <td>Deccan Chargers</td>\n",
       "      <td>bat</td>\n",
       "      <td>Kolkata Knight Riders</td>\n",
       "      <td>wickets</td>\n",
       "      <td>5.0</td>\n",
       "      <td>N</td>\n",
       "      <td>NaN</td>\n",
       "      <td>BF Bowden</td>\n",
       "      <td>K Hariharan</td>\n",
       "    </tr>\n",
       "  </tbody>\n",
       "</table>\n",
       "</div>"
      ],
      "text/plain": [
       "       id        city        date player_of_match  \\\n",
       "0  335982   Bangalore  2008-04-18     BB McCullum   \n",
       "1  335983  Chandigarh  2008-04-19      MEK Hussey   \n",
       "2  335984       Delhi  2008-04-19     MF Maharoof   \n",
       "3  335985      Mumbai  2008-04-20      MV Boucher   \n",
       "4  335986     Kolkata  2008-04-20       DJ Hussey   \n",
       "\n",
       "                                        venue  neutral_venue  \\\n",
       "0                       M Chinnaswamy Stadium              0   \n",
       "1  Punjab Cricket Association Stadium, Mohali              0   \n",
       "2                            Feroz Shah Kotla              0   \n",
       "3                            Wankhede Stadium              0   \n",
       "4                                Eden Gardens              0   \n",
       "\n",
       "                         team1                        team2  \\\n",
       "0  Royal Challengers Bangalore        Kolkata Knight Riders   \n",
       "1              Kings XI Punjab          Chennai Super Kings   \n",
       "2             Delhi Daredevils             Rajasthan Royals   \n",
       "3               Mumbai Indians  Royal Challengers Bangalore   \n",
       "4        Kolkata Knight Riders              Deccan Chargers   \n",
       "\n",
       "                   toss_winner toss_decision                       winner  \\\n",
       "0  Royal Challengers Bangalore         field        Kolkata Knight Riders   \n",
       "1          Chennai Super Kings           bat          Chennai Super Kings   \n",
       "2             Rajasthan Royals           bat             Delhi Daredevils   \n",
       "3               Mumbai Indians           bat  Royal Challengers Bangalore   \n",
       "4              Deccan Chargers           bat        Kolkata Knight Riders   \n",
       "\n",
       "    result  result_margin eliminator method    umpire1         umpire2  \n",
       "0     runs          140.0          N    NaN  Asad Rauf     RE Koertzen  \n",
       "1     runs           33.0          N    NaN  MR Benson      SL Shastri  \n",
       "2  wickets            9.0          N    NaN  Aleem Dar  GA Pratapkumar  \n",
       "3  wickets            5.0          N    NaN   SJ Davis       DJ Harper  \n",
       "4  wickets            5.0          N    NaN  BF Bowden     K Hariharan  "
      ]
     },
     "execution_count": 439,
     "metadata": {},
     "output_type": "execute_result"
    }
   ],
   "source": [
    "df=pd.read_csv('IPL Matches 2008-2020.csv')\n",
    "df.head()"
   ]
  },
  {
   "cell_type": "code",
   "execution_count": 440,
   "metadata": {
    "colab": {
     "base_uri": "https://localhost:8080/",
     "height": 434
    },
    "id": "WcvW5HH-M_0d",
    "outputId": "69109639-26cd-4080-e0f1-1d7e3f5a3d87"
   },
   "outputs": [
    {
     "data": {
      "text/html": [
       "<div>\n",
       "<style scoped>\n",
       "    .dataframe tbody tr th:only-of-type {\n",
       "        vertical-align: middle;\n",
       "    }\n",
       "\n",
       "    .dataframe tbody tr th {\n",
       "        vertical-align: top;\n",
       "    }\n",
       "\n",
       "    .dataframe thead th {\n",
       "        text-align: right;\n",
       "    }\n",
       "</style>\n",
       "<table border=\"1\" class=\"dataframe\">\n",
       "  <thead>\n",
       "    <tr style=\"text-align: right;\">\n",
       "      <th></th>\n",
       "      <th>id</th>\n",
       "      <th>city</th>\n",
       "      <th>date</th>\n",
       "      <th>player_of_match</th>\n",
       "      <th>venue</th>\n",
       "      <th>neutral_venue</th>\n",
       "      <th>team1</th>\n",
       "      <th>team2</th>\n",
       "      <th>toss_winner</th>\n",
       "      <th>toss_decision</th>\n",
       "      <th>winner</th>\n",
       "      <th>result</th>\n",
       "      <th>result_margin</th>\n",
       "      <th>eliminator</th>\n",
       "      <th>method</th>\n",
       "      <th>umpire1</th>\n",
       "      <th>umpire2</th>\n",
       "    </tr>\n",
       "  </thead>\n",
       "  <tbody>\n",
       "    <tr>\n",
       "      <th>811</th>\n",
       "      <td>1216547</td>\n",
       "      <td>Dubai</td>\n",
       "      <td>2020-09-28</td>\n",
       "      <td>AB de Villiers</td>\n",
       "      <td>Dubai International Cricket Stadium</td>\n",
       "      <td>0</td>\n",
       "      <td>Royal Challengers Bangalore</td>\n",
       "      <td>Mumbai Indians</td>\n",
       "      <td>Mumbai Indians</td>\n",
       "      <td>field</td>\n",
       "      <td>Royal Challengers Bangalore</td>\n",
       "      <td>tie</td>\n",
       "      <td>NaN</td>\n",
       "      <td>Y</td>\n",
       "      <td>NaN</td>\n",
       "      <td>Nitin Menon</td>\n",
       "      <td>PR Reiffel</td>\n",
       "    </tr>\n",
       "    <tr>\n",
       "      <th>812</th>\n",
       "      <td>1237177</td>\n",
       "      <td>Dubai</td>\n",
       "      <td>2020-11-05</td>\n",
       "      <td>JJ Bumrah</td>\n",
       "      <td>Dubai International Cricket Stadium</td>\n",
       "      <td>0</td>\n",
       "      <td>Mumbai Indians</td>\n",
       "      <td>Delhi Capitals</td>\n",
       "      <td>Delhi Capitals</td>\n",
       "      <td>field</td>\n",
       "      <td>Mumbai Indians</td>\n",
       "      <td>runs</td>\n",
       "      <td>57.0</td>\n",
       "      <td>N</td>\n",
       "      <td>NaN</td>\n",
       "      <td>CB Gaffaney</td>\n",
       "      <td>Nitin Menon</td>\n",
       "    </tr>\n",
       "    <tr>\n",
       "      <th>813</th>\n",
       "      <td>1237178</td>\n",
       "      <td>Abu Dhabi</td>\n",
       "      <td>2020-11-06</td>\n",
       "      <td>KS Williamson</td>\n",
       "      <td>Sheikh Zayed Stadium</td>\n",
       "      <td>0</td>\n",
       "      <td>Royal Challengers Bangalore</td>\n",
       "      <td>Sunrisers Hyderabad</td>\n",
       "      <td>Sunrisers Hyderabad</td>\n",
       "      <td>field</td>\n",
       "      <td>Sunrisers Hyderabad</td>\n",
       "      <td>wickets</td>\n",
       "      <td>6.0</td>\n",
       "      <td>N</td>\n",
       "      <td>NaN</td>\n",
       "      <td>PR Reiffel</td>\n",
       "      <td>S Ravi</td>\n",
       "    </tr>\n",
       "    <tr>\n",
       "      <th>814</th>\n",
       "      <td>1237180</td>\n",
       "      <td>Abu Dhabi</td>\n",
       "      <td>2020-11-08</td>\n",
       "      <td>MP Stoinis</td>\n",
       "      <td>Sheikh Zayed Stadium</td>\n",
       "      <td>0</td>\n",
       "      <td>Delhi Capitals</td>\n",
       "      <td>Sunrisers Hyderabad</td>\n",
       "      <td>Delhi Capitals</td>\n",
       "      <td>bat</td>\n",
       "      <td>Delhi Capitals</td>\n",
       "      <td>runs</td>\n",
       "      <td>17.0</td>\n",
       "      <td>N</td>\n",
       "      <td>NaN</td>\n",
       "      <td>PR Reiffel</td>\n",
       "      <td>S Ravi</td>\n",
       "    </tr>\n",
       "    <tr>\n",
       "      <th>815</th>\n",
       "      <td>1237181</td>\n",
       "      <td>Dubai</td>\n",
       "      <td>2020-11-10</td>\n",
       "      <td>TA Boult</td>\n",
       "      <td>Dubai International Cricket Stadium</td>\n",
       "      <td>0</td>\n",
       "      <td>Delhi Capitals</td>\n",
       "      <td>Mumbai Indians</td>\n",
       "      <td>Delhi Capitals</td>\n",
       "      <td>bat</td>\n",
       "      <td>Mumbai Indians</td>\n",
       "      <td>wickets</td>\n",
       "      <td>5.0</td>\n",
       "      <td>N</td>\n",
       "      <td>NaN</td>\n",
       "      <td>CB Gaffaney</td>\n",
       "      <td>Nitin Menon</td>\n",
       "    </tr>\n",
       "  </tbody>\n",
       "</table>\n",
       "</div>"
      ],
      "text/plain": [
       "          id       city        date player_of_match  \\\n",
       "811  1216547      Dubai  2020-09-28  AB de Villiers   \n",
       "812  1237177      Dubai  2020-11-05       JJ Bumrah   \n",
       "813  1237178  Abu Dhabi  2020-11-06   KS Williamson   \n",
       "814  1237180  Abu Dhabi  2020-11-08      MP Stoinis   \n",
       "815  1237181      Dubai  2020-11-10        TA Boult   \n",
       "\n",
       "                                   venue  neutral_venue  \\\n",
       "811  Dubai International Cricket Stadium              0   \n",
       "812  Dubai International Cricket Stadium              0   \n",
       "813                 Sheikh Zayed Stadium              0   \n",
       "814                 Sheikh Zayed Stadium              0   \n",
       "815  Dubai International Cricket Stadium              0   \n",
       "\n",
       "                           team1                team2          toss_winner  \\\n",
       "811  Royal Challengers Bangalore       Mumbai Indians       Mumbai Indians   \n",
       "812               Mumbai Indians       Delhi Capitals       Delhi Capitals   \n",
       "813  Royal Challengers Bangalore  Sunrisers Hyderabad  Sunrisers Hyderabad   \n",
       "814               Delhi Capitals  Sunrisers Hyderabad       Delhi Capitals   \n",
       "815               Delhi Capitals       Mumbai Indians       Delhi Capitals   \n",
       "\n",
       "    toss_decision                       winner   result  result_margin  \\\n",
       "811         field  Royal Challengers Bangalore      tie            NaN   \n",
       "812         field               Mumbai Indians     runs           57.0   \n",
       "813         field          Sunrisers Hyderabad  wickets            6.0   \n",
       "814           bat               Delhi Capitals     runs           17.0   \n",
       "815           bat               Mumbai Indians  wickets            5.0   \n",
       "\n",
       "    eliminator method      umpire1      umpire2  \n",
       "811          Y    NaN  Nitin Menon   PR Reiffel  \n",
       "812          N    NaN  CB Gaffaney  Nitin Menon  \n",
       "813          N    NaN   PR Reiffel       S Ravi  \n",
       "814          N    NaN   PR Reiffel       S Ravi  \n",
       "815          N    NaN  CB Gaffaney  Nitin Menon  "
      ]
     },
     "execution_count": 440,
     "metadata": {},
     "output_type": "execute_result"
    }
   ],
   "source": [
    "df.tail()"
   ]
  },
  {
   "cell_type": "code",
   "execution_count": 441,
   "metadata": {
    "id": "jZZsQqT5Jq2F"
   },
   "outputs": [],
   "source": [
    "matchnos=[]\n",
    "k=0\n",
    "for i in df['id']:\n",
    "  if i in uniquematchid:\n",
    "    matchnos.append(k)\n",
    "  k=k+1  "
   ]
  },
  {
   "cell_type": "code",
   "execution_count": 443,
   "metadata": {
    "id": "g-r36Ur1KWyJ"
   },
   "outputs": [],
   "source": [
    "noofmatchesperyear=[]\n",
    "for i in range(13):\n",
    "  noofmatchesperyear.append(0)"
   ]
  },
  {
   "cell_type": "code",
   "execution_count": 444,
   "metadata": {},
   "outputs": [],
   "source": [
    "year=[]"
   ]
  },
  {
   "cell_type": "code",
   "execution_count": 445,
   "metadata": {
    "id": "FWyEnyHzKnJB"
   },
   "outputs": [],
   "source": [
    "k=0\n",
    "cnt=0\n",
    "for i in df['date']:\n",
    "  temp=i[0:4]\n",
    "  if(matchnos[k]==cnt):\n",
    "     k=k+1\n",
    "     if temp not in year:\n",
    "            year.append(temp)\n",
    "     if(temp=='2008'):\n",
    "       noofmatchesperyear[0]=noofmatchesperyear[0]+1\n",
    "     elif(temp=='2009'):  \n",
    "       noofmatchesperyear[1]=noofmatchesperyear[1]+1\n",
    "     elif(temp=='2010'):\n",
    "       noofmatchesperyear[2]=noofmatchesperyear[2]+1\n",
    "     elif(temp=='2011'):    \n",
    "       noofmatchesperyear[3]=noofmatchesperyear[3]+1\n",
    "     elif(temp=='2012'):\n",
    "       noofmatchesperyear[4]=noofmatchesperyear[4]+1\n",
    "     elif(temp=='2013'):\n",
    "       noofmatchesperyear[5]=noofmatchesperyear[5]+1\n",
    "     elif(temp=='2014'):  \n",
    "       noofmatchesperyear[6]=noofmatchesperyear[6]+1\n",
    "     elif(temp=='2015'):\n",
    "       noofmatchesperyear[7]=noofmatchesperyear[7]+1\n",
    "     elif(temp=='2016'):  \n",
    "       noofmatchesperyear[8]=noofmatchesperyear[8]+1\n",
    "     elif(temp=='2017'):  \n",
    "       noofmatchesperyear[9]=noofmatchesperyear[9]+1\n",
    "     elif(temp=='2018'):  \n",
    "       noofmatchesperyear[10]=noofmatchesperyear[10]+1 \n",
    "     elif(temp=='2019'):\n",
    "        noofmatchesperyear[11]=noofmatchesperyear[11]+1\n",
    "     elif(temp=='2020'):\n",
    "          noofmatchesperyear[12]=noofmatchesperyear[12]+1  \n",
    "     if(k>=189):\n",
    "       break     \n",
    "   \n",
    "  cnt=cnt+1   "
   ]
  },
  {
   "cell_type": "code",
   "execution_count": 446,
   "metadata": {
    "colab": {
     "base_uri": "https://localhost:8080/"
    },
    "id": "WVioIns4O8Kc",
    "outputId": "33b46aba-6778-4754-e66d-d15df5bc6ecd"
   },
   "outputs": [
    {
     "name": "stdout",
     "output_type": "stream",
     "text": [
      "[14, 14, 16, 16, 18, 17, 16, 17, 15, 14, 15, 17, 0]\n"
     ]
    }
   ],
   "source": [
    "print(noofmatchesperyear)"
   ]
  },
  {
   "cell_type": "markdown",
   "metadata": {
    "id": "d1LjXwBROBns"
   },
   "source": [
    "yearwiseanalysis"
   ]
  },
  {
   "cell_type": "code",
   "execution_count": 447,
   "metadata": {
    "colab": {
     "base_uri": "https://localhost:8080/",
     "height": 299
    },
    "id": "BAsmxTI4NOmS",
    "outputId": "d33d8141-87b4-4cbe-b48a-fdeb3a9293e2"
   },
   "outputs": [
    {
     "data": {
      "text/html": [
       "<div>\n",
       "<style scoped>\n",
       "    .dataframe tbody tr th:only-of-type {\n",
       "        vertical-align: middle;\n",
       "    }\n",
       "\n",
       "    .dataframe tbody tr th {\n",
       "        vertical-align: top;\n",
       "    }\n",
       "\n",
       "    .dataframe thead th {\n",
       "        text-align: right;\n",
       "    }\n",
       "</style>\n",
       "<table border=\"1\" class=\"dataframe\">\n",
       "  <thead>\n",
       "    <tr style=\"text-align: right;\">\n",
       "      <th></th>\n",
       "      <th>id</th>\n",
       "      <th>inning</th>\n",
       "      <th>over</th>\n",
       "      <th>ball</th>\n",
       "      <th>batsman</th>\n",
       "      <th>non_striker</th>\n",
       "      <th>bowler</th>\n",
       "      <th>batsman_runs</th>\n",
       "      <th>extra_runs</th>\n",
       "      <th>total_runs</th>\n",
       "      <th>non_boundary</th>\n",
       "      <th>is_wicket</th>\n",
       "      <th>dismissal_kind</th>\n",
       "      <th>player_dismissed</th>\n",
       "      <th>fielder</th>\n",
       "      <th>extras_type</th>\n",
       "      <th>batting_team</th>\n",
       "      <th>bowling_team</th>\n",
       "    </tr>\n",
       "  </thead>\n",
       "  <tbody>\n",
       "    <tr>\n",
       "      <th>246</th>\n",
       "      <td>335983</td>\n",
       "      <td>1</td>\n",
       "      <td>10</td>\n",
       "      <td>3</td>\n",
       "      <td>SK Raina</td>\n",
       "      <td>MEK Hussey</td>\n",
       "      <td>PP Chawla</td>\n",
       "      <td>2</td>\n",
       "      <td>0</td>\n",
       "      <td>2</td>\n",
       "      <td>0</td>\n",
       "      <td>0</td>\n",
       "      <td>NaN</td>\n",
       "      <td>NaN</td>\n",
       "      <td>NaN</td>\n",
       "      <td>NaN</td>\n",
       "      <td>Chennai Super Kings</td>\n",
       "      <td>Kings XI Punjab</td>\n",
       "    </tr>\n",
       "    <tr>\n",
       "      <th>247</th>\n",
       "      <td>335983</td>\n",
       "      <td>1</td>\n",
       "      <td>10</td>\n",
       "      <td>4</td>\n",
       "      <td>SK Raina</td>\n",
       "      <td>MEK Hussey</td>\n",
       "      <td>PP Chawla</td>\n",
       "      <td>0</td>\n",
       "      <td>0</td>\n",
       "      <td>0</td>\n",
       "      <td>0</td>\n",
       "      <td>0</td>\n",
       "      <td>NaN</td>\n",
       "      <td>NaN</td>\n",
       "      <td>NaN</td>\n",
       "      <td>NaN</td>\n",
       "      <td>Chennai Super Kings</td>\n",
       "      <td>Kings XI Punjab</td>\n",
       "    </tr>\n",
       "    <tr>\n",
       "      <th>248</th>\n",
       "      <td>335983</td>\n",
       "      <td>1</td>\n",
       "      <td>10</td>\n",
       "      <td>5</td>\n",
       "      <td>SK Raina</td>\n",
       "      <td>MEK Hussey</td>\n",
       "      <td>PP Chawla</td>\n",
       "      <td>6</td>\n",
       "      <td>0</td>\n",
       "      <td>6</td>\n",
       "      <td>0</td>\n",
       "      <td>0</td>\n",
       "      <td>NaN</td>\n",
       "      <td>NaN</td>\n",
       "      <td>NaN</td>\n",
       "      <td>NaN</td>\n",
       "      <td>Chennai Super Kings</td>\n",
       "      <td>Kings XI Punjab</td>\n",
       "    </tr>\n",
       "    <tr>\n",
       "      <th>249</th>\n",
       "      <td>335983</td>\n",
       "      <td>1</td>\n",
       "      <td>10</td>\n",
       "      <td>6</td>\n",
       "      <td>SK Raina</td>\n",
       "      <td>MEK Hussey</td>\n",
       "      <td>PP Chawla</td>\n",
       "      <td>4</td>\n",
       "      <td>0</td>\n",
       "      <td>4</td>\n",
       "      <td>0</td>\n",
       "      <td>0</td>\n",
       "      <td>NaN</td>\n",
       "      <td>NaN</td>\n",
       "      <td>NaN</td>\n",
       "      <td>NaN</td>\n",
       "      <td>Chennai Super Kings</td>\n",
       "      <td>Kings XI Punjab</td>\n",
       "    </tr>\n",
       "    <tr>\n",
       "      <th>253</th>\n",
       "      <td>335983</td>\n",
       "      <td>1</td>\n",
       "      <td>11</td>\n",
       "      <td>4</td>\n",
       "      <td>SK Raina</td>\n",
       "      <td>MEK Hussey</td>\n",
       "      <td>K Goel</td>\n",
       "      <td>6</td>\n",
       "      <td>0</td>\n",
       "      <td>6</td>\n",
       "      <td>0</td>\n",
       "      <td>0</td>\n",
       "      <td>NaN</td>\n",
       "      <td>NaN</td>\n",
       "      <td>NaN</td>\n",
       "      <td>NaN</td>\n",
       "      <td>Chennai Super Kings</td>\n",
       "      <td>Kings XI Punjab</td>\n",
       "    </tr>\n",
       "  </tbody>\n",
       "</table>\n",
       "</div>"
      ],
      "text/plain": [
       "         id  inning  over  ball   batsman non_striker     bowler  \\\n",
       "246  335983       1    10     3  SK Raina  MEK Hussey  PP Chawla   \n",
       "247  335983       1    10     4  SK Raina  MEK Hussey  PP Chawla   \n",
       "248  335983       1    10     5  SK Raina  MEK Hussey  PP Chawla   \n",
       "249  335983       1    10     6  SK Raina  MEK Hussey  PP Chawla   \n",
       "253  335983       1    11     4  SK Raina  MEK Hussey     K Goel   \n",
       "\n",
       "     batsman_runs  extra_runs  total_runs  non_boundary  is_wicket  \\\n",
       "246             2           0           2             0          0   \n",
       "247             0           0           0             0          0   \n",
       "248             6           0           6             0          0   \n",
       "249             4           0           4             0          0   \n",
       "253             6           0           6             0          0   \n",
       "\n",
       "    dismissal_kind player_dismissed fielder extras_type         batting_team  \\\n",
       "246            NaN              NaN     NaN         NaN  Chennai Super Kings   \n",
       "247            NaN              NaN     NaN         NaN  Chennai Super Kings   \n",
       "248            NaN              NaN     NaN         NaN  Chennai Super Kings   \n",
       "249            NaN              NaN     NaN         NaN  Chennai Super Kings   \n",
       "253            NaN              NaN     NaN         NaN  Chennai Super Kings   \n",
       "\n",
       "        bowling_team  \n",
       "246  Kings XI Punjab  \n",
       "247  Kings XI Punjab  \n",
       "248  Kings XI Punjab  \n",
       "249  Kings XI Punjab  \n",
       "253  Kings XI Punjab  "
      ]
     },
     "execution_count": 447,
     "metadata": {},
     "output_type": "execute_result"
    }
   ],
   "source": [
    "sureshraina.head()"
   ]
  },
  {
   "cell_type": "code",
   "execution_count": 448,
   "metadata": {
    "colab": {
     "base_uri": "https://localhost:8080/"
    },
    "id": "GecdJ-pgOGyA",
    "outputId": "e4efca72-81be-4459-a864-f646208f25ca"
   },
   "outputs": [
    {
     "name": "stdout",
     "output_type": "stream",
     "text": [
      "[14, 39, 17, 4, 27, 21, 2, 19, 6, 20, 25, 46, 34, 30, 9, 29, 27, 20, 57, 22, 19, 21, 12, 10, 12, 38, 22, 20, 3, 20, 37, 13, 8, 53, 13, 35, 7, 21, 43, 41, 20, 29, 4, 37, 29, 1, 17, 41, 4, 4, 25, 36, 53, 10, 27, 10, 13, 7, 52, 6, 29, 13, 17, 14, 19, 2, 24, 17, 34, 24, 23, 20, 20, 10, 13, 1, 17, 38, 7, 22, 10, 32, 8, 35, 13, 25, 50, 54, 1, 55, 2, 12, 1, 42, 1, 19, 42, 9, 4, 10, 25, 29, 27, 13, 3, 49, 53, 7, 18, 36, 26, 7, 12, 10, 32, 8, 32, 27, 22, 15, 50, 10, 6, 8, 37, 21, 2, 20, 11, 25, 23, 51, 25, 5, 28, 15, 21, 10, 18, 39, 36, 9, 5, 52, 8, 23, 29, 8, 46, 24, 31, 3, 8, 43, 25, 5, 5, 6, 12, 31, 44, 10, 48, 2, 27, 21, 41, 3, 18, 53, 14, 24, 21, 16, 33, 16, 21, 14, 4, 42, 13, 1, 25, 4, 38, 38, 7, 13, 15]\n"
     ]
    }
   ],
   "source": [
    "print(noofballs)"
   ]
  },
  {
   "cell_type": "code",
   "execution_count": 449,
   "metadata": {
    "colab": {
     "base_uri": "https://localhost:8080/"
    },
    "id": "BSvzpHwpOItc",
    "outputId": "2baa90ed-2ae5-4511-de48-26da62cfe60d"
   },
   "outputs": [
    {
     "name": "stdout",
     "output_type": "stream",
     "text": [
      "[14, 14, 16, 16, 18, 17, 16, 17, 15, 14, 15, 17, 0]\n"
     ]
    }
   ],
   "source": [
    "print(noofmatchesperyear)"
   ]
  },
  {
   "cell_type": "code",
   "execution_count": 450,
   "metadata": {
    "id": "aThpa848OL1_"
   },
   "outputs": [],
   "source": [
    "ballsperyear=[]\n",
    "for i in range(13):\n",
    "  ballsperyear.append(0)"
   ]
  },
  {
   "cell_type": "code",
   "execution_count": 451,
   "metadata": {
    "id": "o0lD56yrObpm"
   },
   "outputs": [],
   "source": [
    "k=0\n",
    "cnt=0\n",
    "sum=0\n",
    "for i in noofballs:\n",
    "  sum=sum+i\n",
    "  cnt=cnt+1\n",
    "  if(cnt==noofmatchesperyear[k]):\n",
    "    ballsperyear[k]=sum\n",
    "    k=k+1\n",
    "    cnt=0\n",
    "    sum=0\n",
    "    "
   ]
  },
  {
   "cell_type": "code",
   "execution_count": 452,
   "metadata": {
    "colab": {
     "base_uri": "https://localhost:8080/"
    },
    "id": "WcmU3UiSOvT_",
    "outputId": "53e018ef-0f03-4a20-f72d-d84d11ec60c2"
   },
   "outputs": [
    {
     "name": "stdout",
     "output_type": "stream",
     "text": [
      "[304, 318, 384, 335, 335, 370, 370, 319, 321, 310, 354, 321, 0]\n"
     ]
    }
   ],
   "source": [
    "print(ballsperyear)"
   ]
  },
  {
   "cell_type": "code",
   "execution_count": 453,
   "metadata": {
    "id": "9eAe_wPpOxRJ"
   },
   "outputs": [],
   "source": [
    "runsperyear=[]\n",
    "for i in range(12):\n",
    "  runsperyear.append(0)"
   ]
  },
  {
   "cell_type": "code",
   "execution_count": 454,
   "metadata": {
    "id": "q2LOlrXDPYL3"
   },
   "outputs": [],
   "source": [
    "k=0\n",
    "cnt=0\n",
    "sum=0\n",
    "for i in sureshraina['batsman_runs']:\n",
    "  sum=sum+i\n",
    "  cnt=cnt+1\n",
    "  if(cnt==ballsperyear[k]):\n",
    "    runsperyear[k]=sum\n",
    "    sum=0\n",
    "    cnt=0\n",
    "    k=k+1\n",
    "   \n"
   ]
  },
  {
   "cell_type": "code",
   "execution_count": 455,
   "metadata": {
    "colab": {
     "base_uri": "https://localhost:8080/"
    },
    "id": "7enRCIc0PuS5",
    "outputId": "d81dba15-30a3-4318-e3d9-0504e1e0cacd"
   },
   "outputs": [
    {
     "name": "stdout",
     "output_type": "stream",
     "text": [
      "[421, 434, 520, 438, 441, 548, 523, 374, 399, 442, 445, 383]\n"
     ]
    }
   ],
   "source": [
    "print(runsperyear) "
   ]
  },
  {
   "cell_type": "code",
   "execution_count": 456,
   "metadata": {},
   "outputs": [],
   "source": [
    "x=np.array(year)\n",
    "y=np.array(runsperyear)\n"
   ]
  },
  {
   "cell_type": "code",
   "execution_count": 460,
   "metadata": {},
   "outputs": [
    {
     "data": {
      "image/png": "[encoded data removed]",
      "text/plain": [
       "<Figure size 720x360 with 1 Axes>"
      ]
     },
     "metadata": {
      "needs_background": "light"
     },
     "output_type": "display_data"
    }
   ],
   "source": [
    "fig = plt.figure(figsize = (10, 5))\n",
    "plt.bar(x, y, color ='green')\n",
    "plt.xlabel(\"years\")\n",
    "plt.ylabel(\"runs\")\n",
    "plt.title(\"Runs scored each year\")\n",
    "plt.show()"
   ]
  },
  {
   "cell_type": "code",
   "execution_count": 461,
   "metadata": {
    "id": "MlXieKrlPwP2"
   },
   "outputs": [],
   "source": [
    "dismissalsperyear=[]\n",
    "for i in range(12):\n",
    "  dismissalsperyear.append(0)"
   ]
  },
  {
   "cell_type": "code",
   "execution_count": 462,
   "metadata": {
    "id": "uKMpnDxcP-J0"
   },
   "outputs": [],
   "source": [
    "k=0\n",
    "cnt=0\n",
    "sum=0\n",
    "for i in sureshraina['is_wicket']:\n",
    "  if(i==1):\n",
    "    sum=sum+1\n",
    "  cnt=cnt+1\n",
    "  if(cnt==ballsperyear[k]):\n",
    "    dismissalsperyear[k]=sum\n",
    "    sum=0\n",
    "    cnt=0\n",
    "    k=k+1"
   ]
  },
  {
   "cell_type": "code",
   "execution_count": 463,
   "metadata": {
    "colab": {
     "base_uri": "https://localhost:8080/"
    },
    "id": "OqrHa4MIQH1O",
    "outputId": "a31e0063-83cb-45a9-e25e-3b9fc53cb335"
   },
   "outputs": [
    {
     "name": "stdout",
     "output_type": "stream",
     "text": [
      "[9, 15, 12, 14, 17, 12, 12, 15, 15, 11, 12, 16]\n"
     ]
    }
   ],
   "source": [
    "print(dismissalsperyear)"
   ]
  },
  {
   "cell_type": "code",
   "execution_count": 464,
   "metadata": {
    "id": "1FFQJiLHxKPk"
   },
   "outputs": [],
   "source": [
    "strikerateperyear=[]\n",
    "avgperyear=[]\n",
    "for i in range(12):\n",
    "  strikerateperyear.append(0)\n",
    "  avgperyear.append(0)"
   ]
  },
  {
   "cell_type": "markdown",
   "metadata": {
    "id": "t0JGg861xsnC"
   },
   "source": [
    "#OUTPUT\n",
    "strike rate and average per year"
   ]
  },
  {
   "cell_type": "code",
   "execution_count": 465,
   "metadata": {
    "id": "DA_dpsoxxVU3"
   },
   "outputs": [],
   "source": [
    "for i in range(12):\n",
    "  strikerateperyear[i]=runsperyear[i]*100/ballsperyear[i]\n",
    "  avgperyear[i]=runsperyear[i]/dismissalsperyear[i]"
   ]
  },
  {
   "cell_type": "code",
   "execution_count": 466,
   "metadata": {
    "colab": {
     "base_uri": "https://localhost:8080/"
    },
    "id": "w9UGm3kSxnGg",
    "outputId": "5e32b457-9c3f-4523-c37c-dc677564dd31"
   },
   "outputs": [
    {
     "name": "stdout",
     "output_type": "stream",
     "text": [
      "sr per year: [138.48684210526315, 136.47798742138366, 135.41666666666666, 130.7462686567164, 131.6417910447761, 148.1081081081081, 141.35135135135135, 117.24137931034483, 124.29906542056075, 142.58064516129033, 125.70621468926554, 119.31464174454828]\n",
      "avg per year: [46.77777777777778, 28.933333333333334, 43.333333333333336, 31.285714285714285, 25.941176470588236, 45.666666666666664, 43.583333333333336, 24.933333333333334, 26.6, 40.18181818181818, 37.083333333333336, 23.9375]\n"
     ]
    }
   ],
   "source": [
    "print(\"sr per year:\",strikerateperyear)\n",
    "print(\"avg per year:\", avgperyear)"
   ]
  },
  {
   "cell_type": "code",
   "execution_count": 385,
   "metadata": {},
   "outputs": [
    {
     "data": {
      "image/png": "[encoded data removed]",
      "text/plain": [
       "<Figure size 432x288 with 1 Axes>"
      ]
     },
     "metadata": {
      "needs_background": "light"
     },
     "output_type": "display_data"
    }
   ],
   "source": [
    "x=np.array(year)\n",
    "y=np.array(strikerateperyear)\n",
    "plt.plot(x, y,color=\"green\")\n",
    "plt.xlabel(\"years\")  # add X-axis label\n",
    "plt.ylabel(\"Strike rate\")  # add Y-axis label\n",
    "plt.title(\"Strike rate per year\")  # add title\n",
    "plt.show()"
   ]
  },
  {
   "cell_type": "code",
   "execution_count": 386,
   "metadata": {},
   "outputs": [
    {
     "data": {
      "image/png": "[encoded data removed]",
      "text/plain": [
       "<Figure size 432x288 with 1 Axes>"
      ]
     },
     "metadata": {
      "needs_background": "light"
     },
     "output_type": "display_data"
    }
   ],
   "source": [
    "x=np.array(year)\n",
    "y=np.array(avgperyear)\n",
    "plt.plot(x, y,color=\"green\")\n",
    "plt.xlabel(\"years\")  # add X-axis label\n",
    "plt.ylabel(\"average\")  # add Y-axis label\n",
    "plt.title(\"average per year\")  # add title\n",
    "plt.show()"
   ]
  },
  {
   "cell_type": "code",
   "execution_count": 387,
   "metadata": {
    "id": "bdkU_adXk56-"
   },
   "outputs": [],
   "source": [
    "noofrunslessthan15ballsperyear=[]\n",
    "noofruns15to30ballsperyear=[]\n",
    "noofrunsmorethan30ballsperyear=[]\n",
    "ballslessthan15peryear=[]\n",
    "balls15to30peryear=[]\n",
    "ballsmorethan30peryear=[]\n",
    "for i in range(12):\n",
    "  noofrunslessthan15ballsperyear.append(0)\n",
    "  noofruns15to30ballsperyear.append(0)\n",
    "  noofrunsmorethan30ballsperyear.append(0)\n",
    "  ballslessthan15peryear.append(0)\n",
    "  balls15to30peryear.append(0)\n",
    "  ballsmorethan30peryear.append(0)"
   ]
  },
  {
   "cell_type": "code",
   "execution_count": 388,
   "metadata": {
    "id": "UwKKOCyFlvgJ"
   },
   "outputs": [],
   "source": [
    "balls=0\n",
    "k=0\n",
    "j=0\n",
    "runslessthan15=0\n",
    "runs15to30=0\n",
    "runsmorethan30=0\n",
    "ballslessthan15=0\n",
    "balls15to30=0\n",
    "ballsmorethan30=0\n",
    "match=0\n",
    "for i in sureshraina['batsman_runs']:\n",
    "  balls=balls+1\n",
    "  if(balls<15):\n",
    "    runslessthan15=runslessthan15+i\n",
    "    ballslessthan15=ballslessthan15+1\n",
    "  elif((balls>=15) & (balls<30)):\n",
    "    runs15to30=runs15to30+i\n",
    "    balls15to30=balls15to30+1\n",
    "  else:\n",
    "    runsmorethan30=runsmorethan30+i\n",
    "    ballsmorethan30=ballsmorethan30+1\n",
    "  if(balls==noofballs[k]):\n",
    "     k=k+1  \n",
    "     balls=0\n",
    "     match=match+1\n",
    "     if(match==noofmatchesperyear[j]):  \n",
    "       match=0\n",
    "       noofrunslessthan15ballsperyear[j]=runslessthan15\n",
    "       noofruns15to30ballsperyear[j]=runs15to30\n",
    "       noofrunsmorethan30ballsperyear[j]=runsmorethan30\n",
    "       ballslessthan15peryear[j]=ballslessthan15\n",
    "       balls15to30peryear[j]=balls15to30\n",
    "       ballsmorethan30peryear[j]=ballsmorethan30\n",
    "       j=j+1\n",
    "       runslessthan15=0\n",
    "       runs15to30=0\n",
    "       runsmorethan30=0\n",
    "       ballslessthan15=0\n",
    "       balls15to30=0\n",
    "       ballsmorethan30=0"
   ]
  },
  {
   "cell_type": "code",
   "execution_count": 389,
   "metadata": {
    "colab": {
     "base_uri": "https://localhost:8080/"
    },
    "id": "WuiE4clPsoJ0",
    "outputId": "c1a0a035-04d1-4d9c-8e5b-1c93f9d01dfd"
   },
   "outputs": [
    {
     "name": "stdout",
     "output_type": "stream",
     "text": [
      "[218, 244, 212, 213, 287, 215, 228, 208, 221, 221, 224, 218]\n",
      "[146, 113, 190, 139, 128, 184, 182, 123, 127, 132, 129, 111]\n",
      "[57, 77, 118, 86, 26, 149, 113, 43, 51, 89, 92, 54]\n"
     ]
    }
   ],
   "source": [
    "print(noofrunslessthan15ballsperyear)\n",
    "print(noofruns15to30ballsperyear)\n",
    "print(noofrunsmorethan30ballsperyear)"
   ]
  },
  {
   "cell_type": "code",
   "execution_count": 390,
   "metadata": {
    "colab": {
     "base_uri": "https://localhost:8080/"
    },
    "id": "YOLuUJ78so_K",
    "outputId": "dec7e47c-de29-46f2-a911-acaae36dd111"
   },
   "outputs": [
    {
     "name": "stdout",
     "output_type": "stream",
     "text": [
      "[166, 183, 188, 167, 221, 167, 186, 189, 180, 149, 173, 196]\n",
      "[105, 98, 124, 102, 100, 109, 120, 95, 102, 105, 109, 90]\n",
      "[33, 37, 72, 66, 14, 94, 64, 35, 39, 56, 72, 35]\n"
     ]
    }
   ],
   "source": [
    "print(ballslessthan15peryear)\n",
    "print(balls15to30peryear)\n",
    "print(ballsmorethan30peryear)"
   ]
  },
  {
   "cell_type": "code",
   "execution_count": 391,
   "metadata": {
    "id": "kNddumiRstQj"
   },
   "outputs": [],
   "source": [
    "dismissalslessthan15ballsperyear=[]\n",
    "dismissals15to30ballsperyear=[]\n",
    "dismissalsmorethan30ballsperyear=[]\n",
    "for i in range(12):\n",
    "  dismissalslessthan15ballsperyear.append(0)\n",
    "  dismissals15to30ballsperyear.append(0)\n",
    "  dismissalsmorethan30ballsperyear.append(0)"
   ]
  },
  {
   "cell_type": "code",
   "execution_count": 392,
   "metadata": {
    "id": "Pj8j7V6KsxbW"
   },
   "outputs": [],
   "source": [
    "balls=0\n",
    "k=0\n",
    "j=0\n",
    "wicketslessthan15=0\n",
    "wickets15to30=0\n",
    "wicketsmorethan30=0\n",
    "match=0\n",
    "for i in sureshraina['is_wicket']:\n",
    "  balls=balls+1\n",
    "  if(balls<15):\n",
    "    if(i==1):\n",
    "         wicketslessthan15=wicketslessthan15+i\n",
    "   \n",
    "  elif((balls>=15) & (balls<30)):\n",
    "    if(i==1):\n",
    "         wickets15to30=wickets15to30+i\n",
    "  else:\n",
    "    if(i==1):\n",
    "          wicketsmorethan30=wicketsmorethan30+i\n",
    "    \n",
    "  if(balls==noofballs[k]):\n",
    "     k=k+1  \n",
    "     balls=0\n",
    "     match=match+1\n",
    "     if(match==noofmatchesperyear[j]):  \n",
    "       match=0\n",
    "       dismissalslessthan15ballsperyear[j]=wicketslessthan15\n",
    "       dismissals15to30ballsperyear[j]=wickets15to30\n",
    "       dismissalsmorethan30ballsperyear[j]=wicketsmorethan30\n",
    "       j=j+1\n",
    "       wicketslessthan15=0\n",
    "       wickets15to30=0\n",
    "       wicketsmorethan30=0"
   ]
  },
  {
   "cell_type": "code",
   "execution_count": 393,
   "metadata": {
    "colab": {
     "base_uri": "https://localhost:8080/"
    },
    "id": "s84eanpVs7lz",
    "outputId": "79735456-f986-40d4-9ec3-468819c34909"
   },
   "outputs": [
    {
     "name": "stdout",
     "output_type": "stream",
     "text": [
      "[4, 7, 7, 8, 10, 11, 6, 9, 8, 7, 7, 8]\n",
      "[3, 6, 4, 4, 6, 1, 5, 5, 6, 3, 3, 5]\n",
      "[2, 2, 1, 2, 1, 0, 1, 1, 1, 1, 2, 3]\n"
     ]
    }
   ],
   "source": [
    "print(dismissalslessthan15ballsperyear)\n",
    "print(dismissals15to30ballsperyear)\n",
    "print(dismissalsmorethan30ballsperyear)"
   ]
  },
  {
   "cell_type": "code",
   "execution_count": 394,
   "metadata": {
    "id": "XZtTvyDwtEkd"
   },
   "outputs": [],
   "source": [
    "yearwisestrikeratelessthan15balls=[]\n",
    "yearwisestrikerate15to30balls=[]\n",
    "yearwisestrikeratemorethan30balls=[]\n",
    "yearwiseaveragelessthan15balls=[]\n",
    "yearwiseaverage15to30balls=[]\n",
    "yearwiseaveragemorethan30balls=[]\n",
    "for i in range(12):\n",
    "  yearwisestrikeratelessthan15balls.append(0)\n",
    "  yearwisestrikerate15to30balls.append(0)\n",
    "  yearwisestrikeratemorethan30balls.append(0)\n",
    "  yearwiseaveragelessthan15balls.append(0)\n",
    "  yearwiseaverage15to30balls.append(0)\n",
    "  yearwiseaveragemorethan30balls.append(0)\n",
    "\n",
    "\n"
   ]
  },
  {
   "cell_type": "code",
   "execution_count": 395,
   "metadata": {
    "id": "4RDSNJB-tpZI"
   },
   "outputs": [],
   "source": [
    "for i in range(12):\n",
    "  yearwisestrikeratelessthan15balls[i]=noofrunslessthan15ballsperyear[i]*100/ballslessthan15peryear[i]\n",
    "  yearwisestrikerate15to30balls[i]=noofruns15to30ballsperyear[i]*100/balls15to30peryear[i]\n",
    "  yearwisestrikeratemorethan30balls[i]=noofrunsmorethan30ballsperyear[i]*100/ballsmorethan30peryear[i]\n",
    "  if(dismissalslessthan15ballsperyear[i]==0):\n",
    "    yearwiseaveragelessthan15balls[i]=0\n",
    "  else:  \n",
    "    yearwiseaveragelessthan15balls[i]=noofrunslessthan15ballsperyear[i]/dismissalslessthan15ballsperyear[i]\n",
    "  if(dismissals15to30ballsperyear[i]==0):\n",
    "    yearwiseaverage15to30balls[i]=0\n",
    "  else:\n",
    "    yearwiseaverage15to30balls[i]=noofruns15to30ballsperyear[i]/dismissals15to30ballsperyear[i]\n",
    "  if(dismissalsmorethan30ballsperyear[i]==0):\n",
    "    yearwiseaveragemorethan30balls[i]=0\n",
    "  else:\n",
    "    yearwiseaveragemorethan30balls[i]=noofrunsmorethan30ballsperyear[i]/dismissalsmorethan30ballsperyear[i]      \n",
    "\n"
   ]
  },
  {
   "cell_type": "code",
   "execution_count": 396,
   "metadata": {
    "colab": {
     "base_uri": "https://localhost:8080/"
    },
    "id": "KrhE3fHhuR50",
    "outputId": "88b1907e-25ed-4018-db9a-bc77111618ca"
   },
   "outputs": [
    {
     "name": "stdout",
     "output_type": "stream",
     "text": [
      "year wise sr less than 15 balls: [131.32530120481928, 133.33333333333334, 112.76595744680851, 127.54491017964072, 129.86425339366517, 128.7425149700599, 122.58064516129032, 110.05291005291005, 122.77777777777777, 148.3221476510067, 129.47976878612718, 111.22448979591837]\n",
      "year wise sr 15 to 30 balls: [139.04761904761904, 115.3061224489796, 153.2258064516129, 136.27450980392157, 128.0, 168.80733944954127, 151.66666666666666, 129.47368421052633, 124.50980392156863, 125.71428571428571, 118.34862385321101, 123.33333333333333]\n",
      "year wise sr more than 30 balls: [172.72727272727272, 208.1081081081081, 163.88888888888889, 130.3030303030303, 185.71428571428572, 158.51063829787233, 176.5625, 122.85714285714286, 130.76923076923077, 158.92857142857142, 127.77777777777777, 154.28571428571428]\n"
     ]
    }
   ],
   "source": [
    "print(\"year wise sr less than 15 balls:\", yearwisestrikeratelessthan15balls)\n",
    "print(\"year wise sr 15 to 30 balls:\", yearwisestrikerate15to30balls)\n",
    "print(\"year wise sr more than 30 balls:\", yearwisestrikeratemorethan30balls)"
   ]
  },
  {
   "cell_type": "code",
   "execution_count": 397,
   "metadata": {},
   "outputs": [
    {
     "data": {
      "image/png": "[encoded data removed]",
      "text/plain": [
       "<Figure size 432x288 with 1 Axes>"
      ]
     },
     "metadata": {
      "needs_background": "light"
     },
     "output_type": "display_data"
    }
   ],
   "source": [
    "y1=np.array(yearwisestrikeratelessthan15balls)\n",
    "y2=np.array(yearwisestrikerate15to30balls)\n",
    "y3=np.array(yearwisestrikeratemorethan30balls)\n",
    "y4=np.array(strikerateperyear)\n",
    "x=np.array(year)\n",
    "plt.plot(x,y1,label=\"sr first 15 balls\")\n",
    "plt.plot(x,y2,label=\"sr 15 to 30 balls\")\n",
    "plt.plot(x,y3,label=\"sr more than 30 balls\")\n",
    "\n",
    "plt.xlabel(\"year\")\n",
    "plt.ylabel(\"strike rate\")\n",
    "plt.title(\"strike rate balls faced\")\n",
    "plt.legend()\n",
    "plt.show()"
   ]
  },
  {
   "cell_type": "code",
   "execution_count": 398,
   "metadata": {
    "colab": {
     "base_uri": "https://localhost:8080/"
    },
    "id": "qeZO_9tBuY6-",
    "outputId": "7bda0e97-5955-4917-d644-e5fb95421954"
   },
   "outputs": [
    {
     "name": "stdout",
     "output_type": "stream",
     "text": [
      "year wise avg less than 15 balls: [54.5, 34.857142857142854, 30.285714285714285, 26.625, 28.7, 19.545454545454547, 38.0, 23.11111111111111, 27.625, 31.571428571428573, 32.0, 27.25]\n",
      "year wise avg 15 to 30 balls: [48.666666666666664, 18.833333333333332, 47.5, 34.75, 21.333333333333332, 184.0, 36.4, 24.6, 21.166666666666668, 44.0, 43.0, 22.2]\n",
      "year wise avg more than 30 balls: [28.5, 38.5, 118.0, 43.0, 26.0, 0, 113.0, 43.0, 51.0, 89.0, 46.0, 18.0]\n"
     ]
    }
   ],
   "source": [
    "print(\"year wise avg less than 15 balls:\", yearwiseaveragelessthan15balls)\n",
    "print(\"year wise avg 15 to 30 balls:\", yearwiseaverage15to30balls)\n",
    "print(\"year wise avg more than 30 balls:\",yearwiseaveragemorethan30balls)"
   ]
  },
  {
   "cell_type": "code",
   "execution_count": 399,
   "metadata": {},
   "outputs": [
    {
     "data": {
      "image/png": "[encoded data removed]",
      "text/plain": [
       "<Figure size 432x288 with 1 Axes>"
      ]
     },
     "metadata": {
      "needs_background": "light"
     },
     "output_type": "display_data"
    }
   ],
   "source": [
    "y1=np.array(yearwiseaveragelessthan15balls)\n",
    "y2=np.array(yearwiseaverage15to30balls)\n",
    "y3=np.array(yearwiseaveragemorethan30balls)\n",
    "y4=np.array(avgperyear)\n",
    "x=np.array(year)\n",
    "plt.plot(x,y1,label=\"avg first 15 balls\")\n",
    "plt.plot(x,y2,label=\"avg 15 to 30 balls\")\n",
    "plt.plot(x,y3,label=\"avg more than 30 balls\")\n",
    "plt.plot(x,y,label=\"Total avg\")\n",
    "plt.xlabel(\"year\")\n",
    "plt.ylabel(\"average\")\n",
    "plt.title(\"average  balls faced\")\n",
    "plt.legend()\n",
    "plt.show()"
   ]
  },
  {
   "cell_type": "markdown",
   "metadata": {
    "id": "ZGvilR0OyNPr"
   },
   "source": [
    "#TODO \n",
    "The above analysis for 1st and 2nd batting"
   ]
  },
  {
   "cell_type": "code",
   "execution_count": 400,
   "metadata": {
    "id": "aLwumvAOyJi6"
   },
   "outputs": [],
   "source": [
    "SRSet = sureshraina[sureshraina['inning'] == 1]\n",
    "SRChase = sureshraina[sureshraina['inning'] == 2]"
   ]
  },
  {
   "cell_type": "code",
   "execution_count": 401,
   "metadata": {},
   "outputs": [
    {
     "name": "stdout",
     "output_type": "stream",
     "text": [
      "Total runs while setting a target:  3089\n",
      "Total balls faced while setting a target:  2336\n",
      "Number of dismissals while setting a target:  93\n",
      "Total runs while chasing:  2279\n",
      "Total balls faced while chasing:  1705\n",
      "Number of dismissals while chasing:  67\n",
      "Total runs:  5368\n",
      "Total balls faced:  4041\n",
      "Total dismissals:  160\n"
     ]
    }
   ],
   "source": [
    "set_runs = 0\n",
    "set_balls = 0\n",
    "set_dismissals = 0\n",
    "\n",
    "for i in SRSet['batsman_runs']:\n",
    "    set_runs = set_runs + i\n",
    "    set_balls = set_balls + 1\n",
    "\n",
    "for j in SRSet['is_wicket']:\n",
    "    if j == 1:\n",
    "        set_dismissals = set_dismissals + 1\n",
    "        \n",
    "print(\"Total runs while setting a target: \", set_runs)\n",
    "print(\"Total balls faced while setting a target: \", set_balls)\n",
    "print(\"Number of dismissals while setting a target: \", set_dismissals)\n",
    "\n",
    "chase_runs = 0\n",
    "chase_balls = 0\n",
    "chase_dismissals = 0\n",
    "\n",
    "for i in SRChase['batsman_runs']:\n",
    "    chase_runs = chase_runs + i\n",
    "    chase_balls = chase_balls + 1\n",
    "\n",
    "for j in SRChase['is_wicket']:\n",
    "    if j == 1:\n",
    "        chase_dismissals = chase_dismissals + 1\n",
    "        \n",
    "print(\"Total runs while chasing: \", chase_runs)\n",
    "print(\"Total balls faced while chasing: \", chase_balls)\n",
    "print(\"Number of dismissals while chasing: \", chase_dismissals)\n",
    "\n",
    "print(\"Total runs: \", set_runs+chase_runs)\n",
    "print(\"Total balls faced: \", set_balls+chase_balls)\n",
    "print(\"Total dismissals: \", set_dismissals+chase_dismissals)"
   ]
  },
  {
   "cell_type": "code",
   "execution_count": 402,
   "metadata": {},
   "outputs": [
    {
     "name": "stdout",
     "output_type": "stream",
     "text": [
      "Average while setting a target:  33.215053763440864\n",
      "Strike rate while setting a target:  132.2345890410959\n",
      "Average while chasing:  34.014925373134325\n",
      "Strike rate while chasing:  133.6656891495601\n"
     ]
    }
   ],
   "source": [
    "set_avg = set_runs/set_dismissals\n",
    "set_sr = set_runs/set_balls*100\n",
    "\n",
    "print(\"Average while setting a target: \", set_avg)\n",
    "print(\"Strike rate while setting a target: \", set_sr)\n",
    "\n",
    "chase_avg = chase_runs/chase_dismissals\n",
    "chase_sr = chase_runs/chase_balls*100\n",
    "\n",
    "print(\"Average while chasing: \", chase_avg)\n",
    "print(\"Strike rate while chasing: \", chase_sr)"
   ]
  },
  {
   "cell_type": "code",
   "execution_count": 403,
   "metadata": {},
   "outputs": [
    {
     "data": {
      "image/png": "[encoded data removed]",
      "text/plain": [
       "<Figure size 432x288 with 1 Axes>"
      ]
     },
     "metadata": {
      "needs_background": "light"
     },
     "output_type": "display_data"
    }
   ],
   "source": [
    "x=[\"chasing\", \"opening\"]\n",
    "y=[chase_avg, set_avg]\n",
    "plt.bar(x, y, color ='maroon')\n",
    " \n",
    "plt.xlabel(\"x\")\n",
    "plt.ylabel(\"average\")\n",
    "plt.title(\"avg chasing vs opening\")\n",
    "plt.show()"
   ]
  },
  {
   "cell_type": "code",
   "execution_count": 404,
   "metadata": {},
   "outputs": [
    {
     "data": {
      "image/png": "[encoded data removed]",
      "text/plain": [
       "<Figure size 432x288 with 1 Axes>"
      ]
     },
     "metadata": {
      "needs_background": "light"
     },
     "output_type": "display_data"
    }
   ],
   "source": [
    "x=[\"chasing\", \"opening\"]\n",
    "y=[chase_sr, set_sr]\n",
    "plt.bar(x, y, color ='maroon')\n",
    " \n",
    "plt.xlabel(\"x\")\n",
    "plt.ylabel(\"sr\")\n",
    "plt.title(\"sr chasing vs opening\")\n",
    "plt.show()"
   ]
  },
  {
   "cell_type": "code",
   "execution_count": 405,
   "metadata": {},
   "outputs": [
    {
     "data": {
      "text/html": [
       "<div>\n",
       "<style scoped>\n",
       "    .dataframe tbody tr th:only-of-type {\n",
       "        vertical-align: middle;\n",
       "    }\n",
       "\n",
       "    .dataframe tbody tr th {\n",
       "        vertical-align: top;\n",
       "    }\n",
       "\n",
       "    .dataframe thead th {\n",
       "        text-align: right;\n",
       "    }\n",
       "</style>\n",
       "<table border=\"1\" class=\"dataframe\">\n",
       "  <thead>\n",
       "    <tr style=\"text-align: right;\">\n",
       "      <th></th>\n",
       "      <th>id</th>\n",
       "      <th>inning</th>\n",
       "      <th>over</th>\n",
       "      <th>ball</th>\n",
       "      <th>batsman</th>\n",
       "      <th>non_striker</th>\n",
       "      <th>bowler</th>\n",
       "      <th>batsman_runs</th>\n",
       "      <th>extra_runs</th>\n",
       "      <th>total_runs</th>\n",
       "      <th>non_boundary</th>\n",
       "      <th>is_wicket</th>\n",
       "      <th>dismissal_kind</th>\n",
       "      <th>player_dismissed</th>\n",
       "      <th>fielder</th>\n",
       "      <th>extras_type</th>\n",
       "      <th>batting_team</th>\n",
       "      <th>bowling_team</th>\n",
       "    </tr>\n",
       "  </thead>\n",
       "  <tbody>\n",
       "    <tr>\n",
       "      <th>11663</th>\n",
       "      <td>336033</td>\n",
       "      <td>2</td>\n",
       "      <td>4</td>\n",
       "      <td>2</td>\n",
       "      <td>SK Raina</td>\n",
       "      <td>PA Patel</td>\n",
       "      <td>Sohail Tanvir</td>\n",
       "      <td>4</td>\n",
       "      <td>0</td>\n",
       "      <td>4</td>\n",
       "      <td>0</td>\n",
       "      <td>0</td>\n",
       "      <td>NaN</td>\n",
       "      <td>NaN</td>\n",
       "      <td>NaN</td>\n",
       "      <td>NaN</td>\n",
       "      <td>Chennai Super Kings</td>\n",
       "      <td>Rajasthan Royals</td>\n",
       "    </tr>\n",
       "    <tr>\n",
       "      <th>11664</th>\n",
       "      <td>336033</td>\n",
       "      <td>2</td>\n",
       "      <td>4</td>\n",
       "      <td>3</td>\n",
       "      <td>SK Raina</td>\n",
       "      <td>PA Patel</td>\n",
       "      <td>Sohail Tanvir</td>\n",
       "      <td>4</td>\n",
       "      <td>0</td>\n",
       "      <td>4</td>\n",
       "      <td>0</td>\n",
       "      <td>0</td>\n",
       "      <td>NaN</td>\n",
       "      <td>NaN</td>\n",
       "      <td>NaN</td>\n",
       "      <td>NaN</td>\n",
       "      <td>Chennai Super Kings</td>\n",
       "      <td>Rajasthan Royals</td>\n",
       "    </tr>\n",
       "    <tr>\n",
       "      <th>11665</th>\n",
       "      <td>336033</td>\n",
       "      <td>2</td>\n",
       "      <td>4</td>\n",
       "      <td>4</td>\n",
       "      <td>SK Raina</td>\n",
       "      <td>PA Patel</td>\n",
       "      <td>Sohail Tanvir</td>\n",
       "      <td>0</td>\n",
       "      <td>0</td>\n",
       "      <td>0</td>\n",
       "      <td>0</td>\n",
       "      <td>0</td>\n",
       "      <td>NaN</td>\n",
       "      <td>NaN</td>\n",
       "      <td>NaN</td>\n",
       "      <td>NaN</td>\n",
       "      <td>Chennai Super Kings</td>\n",
       "      <td>Rajasthan Royals</td>\n",
       "    </tr>\n",
       "    <tr>\n",
       "      <th>11666</th>\n",
       "      <td>336033</td>\n",
       "      <td>2</td>\n",
       "      <td>4</td>\n",
       "      <td>5</td>\n",
       "      <td>SK Raina</td>\n",
       "      <td>PA Patel</td>\n",
       "      <td>Sohail Tanvir</td>\n",
       "      <td>0</td>\n",
       "      <td>0</td>\n",
       "      <td>0</td>\n",
       "      <td>0</td>\n",
       "      <td>0</td>\n",
       "      <td>NaN</td>\n",
       "      <td>NaN</td>\n",
       "      <td>NaN</td>\n",
       "      <td>NaN</td>\n",
       "      <td>Chennai Super Kings</td>\n",
       "      <td>Rajasthan Royals</td>\n",
       "    </tr>\n",
       "    <tr>\n",
       "      <th>11667</th>\n",
       "      <td>336033</td>\n",
       "      <td>2</td>\n",
       "      <td>4</td>\n",
       "      <td>6</td>\n",
       "      <td>SK Raina</td>\n",
       "      <td>PA Patel</td>\n",
       "      <td>Sohail Tanvir</td>\n",
       "      <td>6</td>\n",
       "      <td>0</td>\n",
       "      <td>6</td>\n",
       "      <td>0</td>\n",
       "      <td>0</td>\n",
       "      <td>NaN</td>\n",
       "      <td>NaN</td>\n",
       "      <td>NaN</td>\n",
       "      <td>NaN</td>\n",
       "      <td>Chennai Super Kings</td>\n",
       "      <td>Rajasthan Royals</td>\n",
       "    </tr>\n",
       "  </tbody>\n",
       "</table>\n",
       "</div>"
      ],
      "text/plain": [
       "           id  inning  over  ball   batsman non_striker         bowler  \\\n",
       "11663  336033       2     4     2  SK Raina    PA Patel  Sohail Tanvir   \n",
       "11664  336033       2     4     3  SK Raina    PA Patel  Sohail Tanvir   \n",
       "11665  336033       2     4     4  SK Raina    PA Patel  Sohail Tanvir   \n",
       "11666  336033       2     4     5  SK Raina    PA Patel  Sohail Tanvir   \n",
       "11667  336033       2     4     6  SK Raina    PA Patel  Sohail Tanvir   \n",
       "\n",
       "       batsman_runs  extra_runs  total_runs  non_boundary  is_wicket  \\\n",
       "11663             4           0           4             0          0   \n",
       "11664             4           0           4             0          0   \n",
       "11665             0           0           0             0          0   \n",
       "11666             0           0           0             0          0   \n",
       "11667             6           0           6             0          0   \n",
       "\n",
       "      dismissal_kind player_dismissed fielder extras_type  \\\n",
       "11663            NaN              NaN     NaN         NaN   \n",
       "11664            NaN              NaN     NaN         NaN   \n",
       "11665            NaN              NaN     NaN         NaN   \n",
       "11666            NaN              NaN     NaN         NaN   \n",
       "11667            NaN              NaN     NaN         NaN   \n",
       "\n",
       "              batting_team      bowling_team  \n",
       "11663  Chennai Super Kings  Rajasthan Royals  \n",
       "11664  Chennai Super Kings  Rajasthan Royals  \n",
       "11665  Chennai Super Kings  Rajasthan Royals  \n",
       "11666  Chennai Super Kings  Rajasthan Royals  \n",
       "11667  Chennai Super Kings  Rajasthan Royals  "
      ]
     },
     "execution_count": 405,
     "metadata": {},
     "output_type": "execute_result"
    }
   ],
   "source": [
    "set_powerplay = SRSet[SRSet['over'] < 6]\n",
    "set_powerplay.head()\n",
    "\n",
    "chase_powerplay = SRChase[SRChase['over'] < 6]\n",
    "chase_powerplay.head()"
   ]
  },
  {
   "cell_type": "code",
   "execution_count": 406,
   "metadata": {},
   "outputs": [
    {
     "name": "stdout",
     "output_type": "stream",
     "text": [
      "Total runs in Powerplay while setting a target:  735\n",
      "Total balls faced in PowerPlay while setting a target:  624\n",
      "Number of dismissals in PowerPlay while setting a target:  21\n",
      "Total runs in Powerplay while chasing:  799\n",
      "Total balls faced in PowerPlay while chasing:  564\n",
      "Number of dismissals in PowerPlay while chasing:  23\n"
     ]
    }
   ],
   "source": [
    "set_pp_runs = 0\n",
    "set_pp_balls = 0\n",
    "set_pp_dismissals = 0\n",
    "\n",
    "for i in set_powerplay['batsman_runs']:\n",
    "    set_pp_runs = set_pp_runs + i\n",
    "    set_pp_balls = set_pp_balls + 1\n",
    "\n",
    "for j in set_powerplay['is_wicket']:\n",
    "    if j == 1:\n",
    "        set_pp_dismissals = set_pp_dismissals + 1\n",
    "\n",
    "    \n",
    "print(\"Total runs in Powerplay while setting a target: \", set_pp_runs)\n",
    "print(\"Total balls faced in PowerPlay while setting a target: \", set_pp_balls)\n",
    "print(\"Number of dismissals in PowerPlay while setting a target: \", set_pp_dismissals)\n",
    "\n",
    "chase_pp_runs = 0\n",
    "chase_pp_balls = 0\n",
    "chase_pp_dismissals = 0\n",
    "\n",
    "for i in chase_powerplay['batsman_runs']:\n",
    "    chase_pp_runs = chase_pp_runs + i\n",
    "    chase_pp_balls = chase_pp_balls + 1\n",
    "\n",
    "for j in chase_powerplay['is_wicket']:\n",
    "    if j == 1:\n",
    "        chase_pp_dismissals = chase_pp_dismissals + 1\n",
    "\n",
    "    \n",
    "print(\"Total runs in Powerplay while chasing: \", chase_pp_runs)\n",
    "print(\"Total balls faced in PowerPlay while chasing: \", chase_pp_balls)\n",
    "print(\"Number of dismissals in PowerPlay while chasing: \", chase_pp_dismissals)"
   ]
  },
  {
   "cell_type": "code",
   "execution_count": 407,
   "metadata": {},
   "outputs": [
    {
     "name": "stdout",
     "output_type": "stream",
     "text": [
      "Average in PowerPlay while setting a target:  35.0\n",
      "Strike rate in PowerPlay while setting a target:  117.78846153846155\n",
      "Average in PowerPlay while chasing:  34.73913043478261\n",
      "Strike rate in PowerPlay while chasing:  141.66666666666669\n"
     ]
    }
   ],
   "source": [
    "set_pp_avg = set_pp_runs/set_pp_dismissals\n",
    "set_pp_sr = set_pp_runs/set_pp_balls*100\n",
    "\n",
    "print(\"Average in PowerPlay while setting a target: \", set_pp_avg)\n",
    "print(\"Strike rate in PowerPlay while setting a target: \", set_pp_sr)\n",
    "\n",
    "chase_pp_avg = chase_pp_runs/chase_pp_dismissals\n",
    "chase_pp_sr = chase_pp_runs/chase_pp_balls*100\n",
    "\n",
    "print(\"Average in PowerPlay while chasing: \", chase_pp_avg)\n",
    "print(\"Strike rate in PowerPlay while chasing: \", chase_pp_sr)"
   ]
  },
  {
   "cell_type": "code",
   "execution_count": 408,
   "metadata": {},
   "outputs": [
    {
     "data": {
      "text/html": [
       "<div>\n",
       "<style scoped>\n",
       "    .dataframe tbody tr th:only-of-type {\n",
       "        vertical-align: middle;\n",
       "    }\n",
       "\n",
       "    .dataframe tbody tr th {\n",
       "        vertical-align: top;\n",
       "    }\n",
       "\n",
       "    .dataframe thead th {\n",
       "        text-align: right;\n",
       "    }\n",
       "</style>\n",
       "<table border=\"1\" class=\"dataframe\">\n",
       "  <thead>\n",
       "    <tr style=\"text-align: right;\">\n",
       "      <th></th>\n",
       "      <th>id</th>\n",
       "      <th>inning</th>\n",
       "      <th>over</th>\n",
       "      <th>ball</th>\n",
       "      <th>batsman</th>\n",
       "      <th>non_striker</th>\n",
       "      <th>bowler</th>\n",
       "      <th>batsman_runs</th>\n",
       "      <th>extra_runs</th>\n",
       "      <th>total_runs</th>\n",
       "      <th>non_boundary</th>\n",
       "      <th>is_wicket</th>\n",
       "      <th>dismissal_kind</th>\n",
       "      <th>player_dismissed</th>\n",
       "      <th>fielder</th>\n",
       "      <th>extras_type</th>\n",
       "      <th>batting_team</th>\n",
       "      <th>bowling_team</th>\n",
       "    </tr>\n",
       "  </thead>\n",
       "  <tbody>\n",
       "    <tr>\n",
       "      <th>6423</th>\n",
       "      <td>336009</td>\n",
       "      <td>2</td>\n",
       "      <td>9</td>\n",
       "      <td>4</td>\n",
       "      <td>SK Raina</td>\n",
       "      <td>MS Dhoni</td>\n",
       "      <td>Mohammad Asif</td>\n",
       "      <td>1</td>\n",
       "      <td>0</td>\n",
       "      <td>1</td>\n",
       "      <td>0</td>\n",
       "      <td>0</td>\n",
       "      <td>NaN</td>\n",
       "      <td>NaN</td>\n",
       "      <td>NaN</td>\n",
       "      <td>NaN</td>\n",
       "      <td>Chennai Super Kings</td>\n",
       "      <td>Delhi Daredevils</td>\n",
       "    </tr>\n",
       "    <tr>\n",
       "      <th>6426</th>\n",
       "      <td>336009</td>\n",
       "      <td>2</td>\n",
       "      <td>10</td>\n",
       "      <td>1</td>\n",
       "      <td>SK Raina</td>\n",
       "      <td>MS Dhoni</td>\n",
       "      <td>PJ Sangwan</td>\n",
       "      <td>0</td>\n",
       "      <td>0</td>\n",
       "      <td>0</td>\n",
       "      <td>0</td>\n",
       "      <td>1</td>\n",
       "      <td>caught</td>\n",
       "      <td>SK Raina</td>\n",
       "      <td>MK Tiwary</td>\n",
       "      <td>NaN</td>\n",
       "      <td>Chennai Super Kings</td>\n",
       "      <td>Delhi Daredevils</td>\n",
       "    </tr>\n",
       "    <tr>\n",
       "      <th>10968</th>\n",
       "      <td>336029</td>\n",
       "      <td>2</td>\n",
       "      <td>11</td>\n",
       "      <td>1</td>\n",
       "      <td>SK Raina</td>\n",
       "      <td>SP Fleming</td>\n",
       "      <td>B Akhil</td>\n",
       "      <td>1</td>\n",
       "      <td>0</td>\n",
       "      <td>1</td>\n",
       "      <td>0</td>\n",
       "      <td>0</td>\n",
       "      <td>NaN</td>\n",
       "      <td>NaN</td>\n",
       "      <td>NaN</td>\n",
       "      <td>NaN</td>\n",
       "      <td>Chennai Super Kings</td>\n",
       "      <td>Royal Challengers Bangalore</td>\n",
       "    </tr>\n",
       "    <tr>\n",
       "      <th>10970</th>\n",
       "      <td>336029</td>\n",
       "      <td>2</td>\n",
       "      <td>11</td>\n",
       "      <td>3</td>\n",
       "      <td>SK Raina</td>\n",
       "      <td>SP Fleming</td>\n",
       "      <td>B Akhil</td>\n",
       "      <td>1</td>\n",
       "      <td>0</td>\n",
       "      <td>1</td>\n",
       "      <td>0</td>\n",
       "      <td>0</td>\n",
       "      <td>NaN</td>\n",
       "      <td>NaN</td>\n",
       "      <td>NaN</td>\n",
       "      <td>NaN</td>\n",
       "      <td>Chennai Super Kings</td>\n",
       "      <td>Royal Challengers Bangalore</td>\n",
       "    </tr>\n",
       "    <tr>\n",
       "      <th>10973</th>\n",
       "      <td>336029</td>\n",
       "      <td>2</td>\n",
       "      <td>11</td>\n",
       "      <td>6</td>\n",
       "      <td>SK Raina</td>\n",
       "      <td>SP Fleming</td>\n",
       "      <td>B Akhil</td>\n",
       "      <td>0</td>\n",
       "      <td>0</td>\n",
       "      <td>0</td>\n",
       "      <td>0</td>\n",
       "      <td>0</td>\n",
       "      <td>NaN</td>\n",
       "      <td>NaN</td>\n",
       "      <td>NaN</td>\n",
       "      <td>NaN</td>\n",
       "      <td>Chennai Super Kings</td>\n",
       "      <td>Royal Challengers Bangalore</td>\n",
       "    </tr>\n",
       "  </tbody>\n",
       "</table>\n",
       "</div>"
      ],
      "text/plain": [
       "           id  inning  over  ball   batsman non_striker         bowler  \\\n",
       "6423   336009       2     9     4  SK Raina    MS Dhoni  Mohammad Asif   \n",
       "6426   336009       2    10     1  SK Raina    MS Dhoni     PJ Sangwan   \n",
       "10968  336029       2    11     1  SK Raina  SP Fleming        B Akhil   \n",
       "10970  336029       2    11     3  SK Raina  SP Fleming        B Akhil   \n",
       "10973  336029       2    11     6  SK Raina  SP Fleming        B Akhil   \n",
       "\n",
       "       batsman_runs  extra_runs  total_runs  non_boundary  is_wicket  \\\n",
       "6423              1           0           1             0          0   \n",
       "6426              0           0           0             0          1   \n",
       "10968             1           0           1             0          0   \n",
       "10970             1           0           1             0          0   \n",
       "10973             0           0           0             0          0   \n",
       "\n",
       "      dismissal_kind player_dismissed    fielder extras_type  \\\n",
       "6423             NaN              NaN        NaN         NaN   \n",
       "6426          caught         SK Raina  MK Tiwary         NaN   \n",
       "10968            NaN              NaN        NaN         NaN   \n",
       "10970            NaN              NaN        NaN         NaN   \n",
       "10973            NaN              NaN        NaN         NaN   \n",
       "\n",
       "              batting_team                 bowling_team  \n",
       "6423   Chennai Super Kings             Delhi Daredevils  \n",
       "6426   Chennai Super Kings             Delhi Daredevils  \n",
       "10968  Chennai Super Kings  Royal Challengers Bangalore  \n",
       "10970  Chennai Super Kings  Royal Challengers Bangalore  \n",
       "10973  Chennai Super Kings  Royal Challengers Bangalore  "
      ]
     },
     "execution_count": 408,
     "metadata": {},
     "output_type": "execute_result"
    }
   ],
   "source": [
    "set_mid = SRSet[(SRSet['over'] >= 6) & (SRSet['over'] <=14)]\n",
    "set_mid.head()\n",
    "\n",
    "chase_mid = SRChase[(SRChase['over'] >= 6) & (SRChase['over'] <=14)]\n",
    "chase_mid.head()\n"
   ]
  },
  {
   "cell_type": "code",
   "execution_count": 409,
   "metadata": {},
   "outputs": [
    {
     "name": "stdout",
     "output_type": "stream",
     "text": [
      "Total runs in the middle overs while setting a target:  1800\n",
      "Total balls faced in the middle overs while setting a target:  1389\n",
      "Number of dismissals in the middle overs while setting a target:  55\n",
      "Total runs in the middle overs while chasing:  1169\n",
      "Total balls faced in the middle overs while chasing:  948\n",
      "Number of dismissals in the middle overs while chasing:  36\n"
     ]
    }
   ],
   "source": [
    "set_mid_runs = 0\n",
    "set_mid_balls = 0\n",
    "set_mid_dismissals = 0\n",
    "\n",
    "for i in set_mid['batsman_runs']:\n",
    "    set_mid_runs = set_mid_runs + i\n",
    "    set_mid_balls = set_mid_balls + 1\n",
    "\n",
    "for j in set_mid['is_wicket']:\n",
    "    if j == 1:\n",
    "        set_mid_dismissals = set_mid_dismissals + 1\n",
    "\n",
    "print(\"Total runs in the middle overs while setting a target: \", set_mid_runs)\n",
    "print(\"Total balls faced in the middle overs while setting a target: \", set_mid_balls)\n",
    "print(\"Number of dismissals in the middle overs while setting a target: \", set_mid_dismissals)\n",
    "\n",
    "chase_mid_runs = 0\n",
    "chase_mid_balls = 0\n",
    "chase_mid_dismissals = 0\n",
    "\n",
    "for i in chase_mid['batsman_runs']:\n",
    "    chase_mid_runs = chase_mid_runs + i\n",
    "    chase_mid_balls = chase_mid_balls + 1\n",
    "\n",
    "for j in chase_mid['is_wicket']:\n",
    "    if j == 1:\n",
    "        chase_mid_dismissals = chase_mid_dismissals + 1\n",
    "\n",
    "print(\"Total runs in the middle overs while chasing: \", chase_mid_runs)\n",
    "print(\"Total balls faced in the middle overs while chasing: \", chase_mid_balls)\n",
    "print(\"Number of dismissals in the middle overs while chasing: \", chase_mid_dismissals)"
   ]
  },
  {
   "cell_type": "code",
   "execution_count": 410,
   "metadata": {},
   "outputs": [
    {
     "name": "stdout",
     "output_type": "stream",
     "text": [
      "Average in the middle overs while setting a target:  32.72727272727273\n",
      "Strike rate in middle overs while setting a target:  129.58963282937367\n",
      "Average in the middle overs while chasing:  32.47222222222222\n",
      "Strike rate in middle overs:  123.31223628691983\n"
     ]
    }
   ],
   "source": [
    "set_mid_avg = set_mid_runs/set_mid_dismissals\n",
    "set_mid_sr = set_mid_runs/set_mid_balls*100\n",
    "\n",
    "print(\"Average in the middle overs while setting a target: \", set_mid_avg)\n",
    "print(\"Strike rate in middle overs while setting a target: \", set_mid_sr)\n",
    "\n",
    "chase_mid_avg = chase_mid_runs/chase_mid_dismissals\n",
    "chase_mid_sr = chase_mid_runs/chase_mid_balls*100\n",
    "\n",
    "print(\"Average in the middle overs while chasing: \", chase_mid_avg)\n",
    "print(\"Strike rate in middle overs: \", chase_mid_sr)"
   ]
  },
  {
   "cell_type": "code",
   "execution_count": 411,
   "metadata": {},
   "outputs": [
    {
     "data": {
      "text/html": [
       "<div>\n",
       "<style scoped>\n",
       "    .dataframe tbody tr th:only-of-type {\n",
       "        vertical-align: middle;\n",
       "    }\n",
       "\n",
       "    .dataframe tbody tr th {\n",
       "        vertical-align: top;\n",
       "    }\n",
       "\n",
       "    .dataframe thead th {\n",
       "        text-align: right;\n",
       "    }\n",
       "</style>\n",
       "<table border=\"1\" class=\"dataframe\">\n",
       "  <thead>\n",
       "    <tr style=\"text-align: right;\">\n",
       "      <th></th>\n",
       "      <th>id</th>\n",
       "      <th>inning</th>\n",
       "      <th>over</th>\n",
       "      <th>ball</th>\n",
       "      <th>batsman</th>\n",
       "      <th>non_striker</th>\n",
       "      <th>bowler</th>\n",
       "      <th>batsman_runs</th>\n",
       "      <th>extra_runs</th>\n",
       "      <th>total_runs</th>\n",
       "      <th>non_boundary</th>\n",
       "      <th>is_wicket</th>\n",
       "      <th>dismissal_kind</th>\n",
       "      <th>player_dismissed</th>\n",
       "      <th>fielder</th>\n",
       "      <th>extras_type</th>\n",
       "      <th>batting_team</th>\n",
       "      <th>bowling_team</th>\n",
       "    </tr>\n",
       "  </thead>\n",
       "  <tbody>\n",
       "    <tr>\n",
       "      <th>10993</th>\n",
       "      <td>336029</td>\n",
       "      <td>2</td>\n",
       "      <td>15</td>\n",
       "      <td>1</td>\n",
       "      <td>SK Raina</td>\n",
       "      <td>JA Morkel</td>\n",
       "      <td>DW Steyn</td>\n",
       "      <td>1</td>\n",
       "      <td>0</td>\n",
       "      <td>1</td>\n",
       "      <td>0</td>\n",
       "      <td>0</td>\n",
       "      <td>NaN</td>\n",
       "      <td>NaN</td>\n",
       "      <td>NaN</td>\n",
       "      <td>NaN</td>\n",
       "      <td>Chennai Super Kings</td>\n",
       "      <td>Royal Challengers Bangalore</td>\n",
       "    </tr>\n",
       "    <tr>\n",
       "      <th>10999</th>\n",
       "      <td>336029</td>\n",
       "      <td>2</td>\n",
       "      <td>16</td>\n",
       "      <td>1</td>\n",
       "      <td>SK Raina</td>\n",
       "      <td>MS Gony</td>\n",
       "      <td>JH Kallis</td>\n",
       "      <td>0</td>\n",
       "      <td>0</td>\n",
       "      <td>0</td>\n",
       "      <td>0</td>\n",
       "      <td>0</td>\n",
       "      <td>NaN</td>\n",
       "      <td>NaN</td>\n",
       "      <td>NaN</td>\n",
       "      <td>NaN</td>\n",
       "      <td>Chennai Super Kings</td>\n",
       "      <td>Royal Challengers Bangalore</td>\n",
       "    </tr>\n",
       "    <tr>\n",
       "      <th>11000</th>\n",
       "      <td>336029</td>\n",
       "      <td>2</td>\n",
       "      <td>16</td>\n",
       "      <td>2</td>\n",
       "      <td>SK Raina</td>\n",
       "      <td>MS Gony</td>\n",
       "      <td>JH Kallis</td>\n",
       "      <td>4</td>\n",
       "      <td>0</td>\n",
       "      <td>4</td>\n",
       "      <td>0</td>\n",
       "      <td>0</td>\n",
       "      <td>NaN</td>\n",
       "      <td>NaN</td>\n",
       "      <td>NaN</td>\n",
       "      <td>NaN</td>\n",
       "      <td>Chennai Super Kings</td>\n",
       "      <td>Royal Challengers Bangalore</td>\n",
       "    </tr>\n",
       "    <tr>\n",
       "      <th>11001</th>\n",
       "      <td>336029</td>\n",
       "      <td>2</td>\n",
       "      <td>16</td>\n",
       "      <td>3</td>\n",
       "      <td>SK Raina</td>\n",
       "      <td>MS Gony</td>\n",
       "      <td>JH Kallis</td>\n",
       "      <td>0</td>\n",
       "      <td>0</td>\n",
       "      <td>0</td>\n",
       "      <td>0</td>\n",
       "      <td>0</td>\n",
       "      <td>NaN</td>\n",
       "      <td>NaN</td>\n",
       "      <td>NaN</td>\n",
       "      <td>NaN</td>\n",
       "      <td>Chennai Super Kings</td>\n",
       "      <td>Royal Challengers Bangalore</td>\n",
       "    </tr>\n",
       "    <tr>\n",
       "      <th>11002</th>\n",
       "      <td>336029</td>\n",
       "      <td>2</td>\n",
       "      <td>16</td>\n",
       "      <td>4</td>\n",
       "      <td>SK Raina</td>\n",
       "      <td>MS Gony</td>\n",
       "      <td>JH Kallis</td>\n",
       "      <td>1</td>\n",
       "      <td>0</td>\n",
       "      <td>1</td>\n",
       "      <td>0</td>\n",
       "      <td>0</td>\n",
       "      <td>NaN</td>\n",
       "      <td>NaN</td>\n",
       "      <td>NaN</td>\n",
       "      <td>NaN</td>\n",
       "      <td>Chennai Super Kings</td>\n",
       "      <td>Royal Challengers Bangalore</td>\n",
       "    </tr>\n",
       "  </tbody>\n",
       "</table>\n",
       "</div>"
      ],
      "text/plain": [
       "           id  inning  over  ball   batsman non_striker     bowler  \\\n",
       "10993  336029       2    15     1  SK Raina   JA Morkel   DW Steyn   \n",
       "10999  336029       2    16     1  SK Raina     MS Gony  JH Kallis   \n",
       "11000  336029       2    16     2  SK Raina     MS Gony  JH Kallis   \n",
       "11001  336029       2    16     3  SK Raina     MS Gony  JH Kallis   \n",
       "11002  336029       2    16     4  SK Raina     MS Gony  JH Kallis   \n",
       "\n",
       "       batsman_runs  extra_runs  total_runs  non_boundary  is_wicket  \\\n",
       "10993             1           0           1             0          0   \n",
       "10999             0           0           0             0          0   \n",
       "11000             4           0           4             0          0   \n",
       "11001             0           0           0             0          0   \n",
       "11002             1           0           1             0          0   \n",
       "\n",
       "      dismissal_kind player_dismissed fielder extras_type  \\\n",
       "10993            NaN              NaN     NaN         NaN   \n",
       "10999            NaN              NaN     NaN         NaN   \n",
       "11000            NaN              NaN     NaN         NaN   \n",
       "11001            NaN              NaN     NaN         NaN   \n",
       "11002            NaN              NaN     NaN         NaN   \n",
       "\n",
       "              batting_team                 bowling_team  \n",
       "10993  Chennai Super Kings  Royal Challengers Bangalore  \n",
       "10999  Chennai Super Kings  Royal Challengers Bangalore  \n",
       "11000  Chennai Super Kings  Royal Challengers Bangalore  \n",
       "11001  Chennai Super Kings  Royal Challengers Bangalore  \n",
       "11002  Chennai Super Kings  Royal Challengers Bangalore  "
      ]
     },
     "execution_count": 411,
     "metadata": {},
     "output_type": "execute_result"
    }
   ],
   "source": [
    "set_death = SRSet[SRSet['over']>=15]\n",
    "set_death.head()\n",
    "\n",
    "chase_death = SRChase[SRChase['over']>=15]\n",
    "chase_death.head()"
   ]
  },
  {
   "cell_type": "code",
   "execution_count": 412,
   "metadata": {},
   "outputs": [
    {
     "name": "stdout",
     "output_type": "stream",
     "text": [
      "Total runs at the death while setting a target:  554\n",
      "Total balls faced at the death while setting a target:  323\n",
      "Number of dismissals at the death while setting a target:  17\n",
      "Total runs at the death while chasing:  311\n",
      "Total balls faced at the death while chasing:  193\n",
      "Number of dismissals at the death while chasing:  8\n"
     ]
    }
   ],
   "source": [
    "set_death_runs = 0\n",
    "set_death_balls = 0\n",
    "set_death_dismissals = 0\n",
    "\n",
    "for i in set_death['batsman_runs']:\n",
    "    set_death_runs = set_death_runs + i\n",
    "    set_death_balls = set_death_balls + 1\n",
    "    \n",
    "for j in set_death['is_wicket']:\n",
    "    if j == 1:\n",
    "        set_death_dismissals = set_death_dismissals + 1\n",
    "        \n",
    "print(\"Total runs at the death while setting a target: \", set_death_runs)\n",
    "print(\"Total balls faced at the death while setting a target: \", set_death_balls)\n",
    "print(\"Number of dismissals at the death while setting a target: \", set_death_dismissals)\n",
    "\n",
    "\n",
    "chase_death_runs = 0\n",
    "chase_death_balls = 0\n",
    "chase_death_dismissals = 0\n",
    "\n",
    "for i in chase_death['batsman_runs']:\n",
    "    chase_death_runs = chase_death_runs + i\n",
    "    chase_death_balls = chase_death_balls + 1\n",
    "    \n",
    "for j in chase_death['is_wicket']:\n",
    "    if j == 1:\n",
    "        chase_death_dismissals = chase_death_dismissals + 1\n",
    "        \n",
    "print(\"Total runs at the death while chasing: \", chase_death_runs)\n",
    "print(\"Total balls faced at the death while chasing: \", chase_death_balls)\n",
    "print(\"Number of dismissals at the death while chasing: \", chase_death_dismissals)"
   ]
  },
  {
   "cell_type": "code",
   "execution_count": 413,
   "metadata": {},
   "outputs": [
    {
     "name": "stdout",
     "output_type": "stream",
     "text": [
      "Average at the death while setting a target:  32.588235294117645\n",
      "Strike rate at the death while setting a target:  171.5170278637771\n",
      "Average at the death while chasing:  38.875\n",
      "Strike rate at the death while chasing:  161.13989637305698\n"
     ]
    }
   ],
   "source": [
    "set_death_avg = set_death_runs/set_death_dismissals\n",
    "set_death_sr = set_death_runs/set_death_balls*100\n",
    "\n",
    "print(\"Average at the death while setting a target: \", set_death_avg)\n",
    "print(\"Strike rate at the death while setting a target: \", set_death_sr)\n",
    "\n",
    "chase_death_avg = chase_death_runs/chase_death_dismissals\n",
    "chase_death_sr = chase_death_runs/chase_death_balls*100\n",
    "\n",
    "print(\"Average at the death while chasing: \", chase_death_avg)\n",
    "print(\"Strike rate at the death while chasing: \", chase_death_sr)"
   ]
  },
  {
   "cell_type": "code",
   "execution_count": null,
   "metadata": {},
   "outputs": [],
   "source": []
  },
  {
   "cell_type": "code",
   "execution_count": null,
   "metadata": {},
   "outputs": [],
   "source": []
  }
 ],
 "metadata": {
  "colab": {
   "collapsed_sections": [],
   "name": "Sureshraina.ipynb",
   "provenance": [],
   "toc_visible": true
  },
  "kernelspec": {
   "display_name": "Python 3",
   "language": "python",
   "name": "python3"
  },
  "language_info": {
   "codemirror_mode": {
    "name": "ipython",
    "version": 3
   },
   "file_extension": ".py",
   "mimetype": "text/x-python",
   "name": "python",
   "nbconvert_exporter": "python",
   "pygments_lexer": "ipython3",
   "version": "3.7.3"
  }
 },
 "nbformat": 4,
 "nbformat_minor": 1
}
